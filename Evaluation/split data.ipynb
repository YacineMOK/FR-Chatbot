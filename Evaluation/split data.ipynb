{
 "cells": [
  {
   "cell_type": "markdown",
   "source": "## Séparer notre ensemble de Question-Réponses\nDans le but d'entrainer plusieurs fois notre modèle sur plusieurs ensemble d'entrainement possible, nous avons créé ce notebook (section) qui explique nos motivations et la façon dont nous avons obtenu tous nos ensembles d'entrainement et de tests. \n\nLes résultats de chaque expérience/extraction de sets seront sauvegardés dans le fichier ```../datasets/ready-to-train```",
   "metadata": {
    "cell_id": "0d2bd07615874c29962a64390b6b825b",
    "tags": [],
    "deepnote_cell_type": "markdown",
    "deepnote_cell_height": 167.109375
   }
  },
  {
   "cell_type": "code",
   "source": "# imports\nimport numpy as np\nimport pandas as pd\n\n# Constantes\nPATH = \"../datasets/Nos datasets\"\nFILE_NAME = \"/Dataset_prefinal.tsv\"\nSEP = \"\\t\"\n\n# lecture et affichage\ndf_to_split = pd.read_csv(PATH+FILE_NAME, sep=SEP)\nprint(\"Nous avons :\", len(df_to_split), \"couples Q&A.\")\ndf_to_split.head(5)",
   "metadata": {
    "cell_id": "e0de2acb31f8432a857c0ce0d6492b2f",
    "tags": [],
    "deepnote_to_be_reexecuted": false,
    "source_hash": "411c73c4",
    "execution_start": 1652191202695,
    "execution_millis": 165,
    "owner_user_id": "448f42ce-c96d-482f-83db-aa45b6101395",
    "deepnote_cell_type": "code",
    "deepnote_cell_height": 656.90625
   },
   "outputs": [
    {
     "name": "stdout",
     "text": "Nous avons : 655 couples Q&A.\n",
     "output_type": "stream"
    },
    {
     "output_type": "execute_result",
     "execution_count": 4,
     "data": {
      "application/vnd.deepnote.dataframe.v3+json": {
       "column_count": 2,
       "row_count": 5,
       "columns": [
        {
         "name": "Question",
         "dtype": "object",
         "stats": {
          "unique_count": 3,
          "nan_count": 0,
          "categories": [
           {
            "name": "Quels sont tes centres d'interets",
            "count": 2
           },
           {
            "name": "Quel est ton numero",
            "count": 2
           },
           {
            "name": "Quels sont tes sujets preferes",
            "count": 1
           }
          ]
         }
        },
        {
         "name": "Reponse",
         "dtype": "object",
         "stats": {
          "unique_count": 5,
          "nan_count": 0,
          "categories": [
           {
            "name": "Je suis interessé par beaucoup de choses. Nous pouvons parler de n'importe quoi!",
            "count": 1
           },
           {
            "name": "Je suis interessé par une grande variete de sujets, et lit plutot beaucoup.",
            "count": 1
           },
           {
            "name": "3 others",
            "count": 3
           }
          ]
         }
        },
        {
         "name": "_deepnote_index_column",
         "dtype": "int64"
        }
       ],
       "rows": [
        {
         "Question": "Quels sont tes centres d'interets",
         "Reponse": "Je suis interessé par beaucoup de choses. Nous pouvons parler de n'importe quoi!",
         "_deepnote_index_column": 0
        },
        {
         "Question": "Quels sont tes centres d'interets",
         "Reponse": "Je suis interessé par une grande variete de sujets, et lit plutot beaucoup.",
         "_deepnote_index_column": 1
        },
        {
         "Question": "Quels sont tes sujets preferes",
         "Reponse": "Mes sujets preferes incluent la robotique, l'information, et le traitement automatique du langage naturel.",
         "_deepnote_index_column": 2
        },
        {
         "Question": "Quel est ton numero",
         "Reponse": "Je n'ai pas de numero.",
         "_deepnote_index_column": 3
        },
        {
         "Question": "Quel est ton numero",
         "Reponse": "5446, c'est mon numero maintenant.",
         "_deepnote_index_column": 4
        }
       ]
      },
      "text/plain": "                            Question  \\\n0  Quels sont tes centres d'interets   \n1  Quels sont tes centres d'interets   \n2     Quels sont tes sujets preferes   \n3                Quel est ton numero   \n4                Quel est ton numero   \n\n                                             Reponse  \n0  Je suis interessé par beaucoup de choses. Nous...  \n1  Je suis interessé par une grande variete de su...  \n2  Mes sujets preferes incluent la robotique, l'i...  \n3                             Je n'ai pas de numero.  \n4                 5446, c'est mon numero maintenant.  ",
      "text/html": "<div>\n<style scoped>\n    .dataframe tbody tr th:only-of-type {\n        vertical-align: middle;\n    }\n\n    .dataframe tbody tr th {\n        vertical-align: top;\n    }\n\n    .dataframe thead th {\n        text-align: right;\n    }\n</style>\n<table border=\"1\" class=\"dataframe\">\n  <thead>\n    <tr style=\"text-align: right;\">\n      <th></th>\n      <th>Question</th>\n      <th>Reponse</th>\n    </tr>\n  </thead>\n  <tbody>\n    <tr>\n      <th>0</th>\n      <td>Quels sont tes centres d'interets</td>\n      <td>Je suis interessé par beaucoup de choses. Nous...</td>\n    </tr>\n    <tr>\n      <th>1</th>\n      <td>Quels sont tes centres d'interets</td>\n      <td>Je suis interessé par une grande variete de su...</td>\n    </tr>\n    <tr>\n      <th>2</th>\n      <td>Quels sont tes sujets preferes</td>\n      <td>Mes sujets preferes incluent la robotique, l'i...</td>\n    </tr>\n    <tr>\n      <th>3</th>\n      <td>Quel est ton numero</td>\n      <td>Je n'ai pas de numero.</td>\n    </tr>\n    <tr>\n      <th>4</th>\n      <td>Quel est ton numero</td>\n      <td>5446, c'est mon numero maintenant.</td>\n    </tr>\n  </tbody>\n</table>\n</div>"
     },
     "metadata": {}
    }
   ],
   "execution_count": 4
  },
  {
   "cell_type": "markdown",
   "source": "### Sans conditions sur les sous-ensembles dont se compose le dataset\nNotre ensemble étant conçus de plusieurs dialogues, Q&A... d'autres dataset (traduit ou non ; détails dans le fichier ```TODO: À METTRE PLUS TARD```), le but ici est de créer un test set avec K couples de Q&A tirés de façon totalement aléatoire. \n\nLe test set sera unique quand aux questions, aucune vérifications sur les réponses. Autrement dit, *nous n'auraons pas des questions identiques mais un doublon de réponse pourrait apparaître.*",
   "metadata": {
    "cell_id": "9d58adee572c425aa97a2bf99951b272",
    "tags": [],
    "deepnote_cell_type": "markdown",
    "deepnote_cell_height": 181.5
   }
  },
  {
   "outputs": [],
   "execution_count": null,
   "cell_type": "code",
   "source": "from sklearn.model_selection import train_test_split\n",
   "metadata": {
    "cell_id": "0b43f7f86e904335a516922514deb8ff",
    "tags": [],
    "deepnote_cell_type": "code",
    "deepnote_cell_height": 101.921875
   }
  },
  {
   "cell_type": "markdown",
   "source": "<a style='text-decoration:none;line-height:16px;display:flex;color:#5B5B62;padding:10px;justify-content:end;' href='https://deepnote.com?utm_source=created-in-deepnote-cell&projectId=e5c503ea-724e-4975-85d2-1122520b6aaa' target=\"_blank\">\n<img alt='Created in deepnote.com' style='display:inline;max-height:16px;margin:0px;margin-right:7.5px;' src='data:image/svg+xml;base64,PD94bWwgdmVyc2lvbj0iMS4wIiBlbmNvZGluZz0iVVRGLTgiPz4KPHN2ZyB3aWR0aD0iODBweCIgaGVpZ2h0PSI4MHB4IiB2aWV3Qm94PSIwIDAgODAgODAiIHZlcnNpb249IjEuMSIgeG1sbnM9Imh0dHA6Ly93d3cudzMub3JnLzIwMDAvc3ZnIiB4bWxuczp4bGluaz0iaHR0cDovL3d3dy53My5vcmcvMTk5OS94bGluayI+CiAgICA8IS0tIEdlbmVyYXRvcjogU2tldGNoIDU0LjEgKDc2NDkwKSAtIGh0dHBzOi8vc2tldGNoYXBwLmNvbSAtLT4KICAgIDx0aXRsZT5Hcm91cCAzPC90aXRsZT4KICAgIDxkZXNjPkNyZWF0ZWQgd2l0aCBTa2V0Y2guPC9kZXNjPgogICAgPGcgaWQ9IkxhbmRpbmciIHN0cm9rZT0ibm9uZSIgc3Ryb2tlLXdpZHRoPSIxIiBmaWxsPSJub25lIiBmaWxsLXJ1bGU9ImV2ZW5vZGQiPgogICAgICAgIDxnIGlkPSJBcnRib2FyZCIgdHJhbnNmb3JtPSJ0cmFuc2xhdGUoLTEyMzUuMDAwMDAwLCAtNzkuMDAwMDAwKSI+CiAgICAgICAgICAgIDxnIGlkPSJHcm91cC0zIiB0cmFuc2Zvcm09InRyYW5zbGF0ZSgxMjM1LjAwMDAwMCwgNzkuMDAwMDAwKSI+CiAgICAgICAgICAgICAgICA8cG9seWdvbiBpZD0iUGF0aC0yMCIgZmlsbD0iIzAyNjVCNCIgcG9pbnRzPSIyLjM3NjIzNzYyIDgwIDM4LjA0NzY2NjcgODAgNTcuODIxNzgyMiA3My44MDU3NTkyIDU3LjgyMTc4MjIgMzIuNzU5MjczOSAzOS4xNDAyMjc4IDMxLjY4MzE2ODMiPjwvcG9seWdvbj4KICAgICAgICAgICAgICAgIDxwYXRoIGQ9Ik0zNS4wMDc3MTgsODAgQzQyLjkwNjIwMDcsNzYuNDU0OTM1OCA0Ny41NjQ5MTY3LDcxLjU0MjI2NzEgNDguOTgzODY2LDY1LjI2MTk5MzkgQzUxLjExMjI4OTksNTUuODQxNTg0MiA0MS42NzcxNzk1LDQ5LjIxMjIyODQgMjUuNjIzOTg0Niw0OS4yMTIyMjg0IEMyNS40ODQ5Mjg5LDQ5LjEyNjg0NDggMjkuODI2MTI5Niw0My4yODM4MjQ4IDM4LjY0NzU4NjksMzEuNjgzMTY4MyBMNzIuODcxMjg3MSwzMi41NTQ0MjUgTDY1LjI4MDk3Myw2Ny42NzYzNDIxIEw1MS4xMTIyODk5LDc3LjM3NjE0NCBMMzUuMDA3NzE4LDgwIFoiIGlkPSJQYXRoLTIyIiBmaWxsPSIjMDAyODY4Ij48L3BhdGg+CiAgICAgICAgICAgICAgICA8cGF0aCBkPSJNMCwzNy43MzA0NDA1IEwyNy4xMTQ1MzcsMC4yNTcxMTE0MzYgQzYyLjM3MTUxMjMsLTEuOTkwNzE3MDEgODAsMTAuNTAwMzkyNyA4MCwzNy43MzA0NDA1IEM4MCw2NC45NjA0ODgyIDY0Ljc3NjUwMzgsNzkuMDUwMzQxNCAzNC4zMjk1MTEzLDgwIEM0Ny4wNTUzNDg5LDc3LjU2NzA4MDggNTMuNDE4MjY3Nyw3MC4zMTM2MTAzIDUzLjQxODI2NzcsNTguMjM5NTg4NSBDNTMuNDE4MjY3Nyw0MC4xMjg1NTU3IDM2LjMwMzk1NDQsMzcuNzMwNDQwNSAyNS4yMjc0MTcsMzcuNzMwNDQwNSBDMTcuODQzMDU4NiwzNy43MzA0NDA1IDkuNDMzOTE5NjYsMzcuNzMwNDQwNSAwLDM3LjczMDQ0MDUgWiIgaWQ9IlBhdGgtMTkiIGZpbGw9IiMzNzkzRUYiPjwvcGF0aD4KICAgICAgICAgICAgPC9nPgogICAgICAgIDwvZz4KICAgIDwvZz4KPC9zdmc+' > </img>\nCreated in <span style='font-weight:600;margin-left:4px;'>Deepnote</span></a>",
   "metadata": {
    "tags": [],
    "created_in_deepnote_cell": true,
    "deepnote_cell_type": "markdown"
   }
  }
 ],
 "nbformat": 4,
 "nbformat_minor": 2,
 "metadata": {
  "orig_nbformat": 2,
  "deepnote": {},
  "deepnote_notebook_id": "e87682e6-4f81-4f08-b95f-1bd135fab3a0",
  "deepnote_execution_queue": []
 }
}