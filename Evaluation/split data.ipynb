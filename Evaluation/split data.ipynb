{
  "cells": [
    {
      "cell_type": "markdown",
      "source": [
        "## Séparer notre ensemble de Question-Réponses\n",
        "Dans le but d'entrainer plusieurs fois notre modèle sur plusieurs ensemble d'entrainement possible, nous avons créé ce notebook (section) qui explique nos motivations et la façon dont nous avons obtenu tous nos ensembles d'entrainement et de tests. \n",
        "\n",
        "Les résultats de chaque expérience/extraction de sets seront sauvegardés dans le fichier ```../datasets/ready-to-train```"
      ],
      "metadata": {
        "cell_id": "0d2bd07615874c29962a64390b6b825b",
        "tags": [],
        "deepnote_cell_type": "markdown",
        "deepnote_cell_height": 167.109375,
        "id": "HW7GFJ2LTHKD"
      }
    },
    {
      "cell_type": "code",
      "source": [
        "# imports\n",
        "import numpy as np\n",
        "import pandas as pd\n",
        "\n",
        "# Constantes\n",
        "PATH = \"../datasets/Nos datasets\"\n",
        "# PATH = \"./\"\n",
        "FILE_NAME = \"/Data collection - Final version.tsv\"\n",
        "SEP = \"\\t\"\n",
        "COL_NAMES = [\"Question\", \"Reponse\", \"Catégorie\", \"Type\", \"Source\", \"FR?\"]\n",
        "\n",
        "# lecture et affichage\n",
        "df_to_split = pd.read_csv(PATH+FILE_NAME, sep=SEP, usecols=COL_NAMES)\n",
        "#df_to_split.drop(labels=0, axis=0, inplace=True)\n",
        "\n",
        "print(\"Nous avons :\", len(df_to_split), \"couples Q&A.\")\n",
        "df_to_split.head(5)"
      ],
      "metadata": {
        "cell_id": "e0de2acb31f8432a857c0ce0d6492b2f",
        "tags": [],
        "deepnote_to_be_reexecuted": false,
        "source_hash": "411c73c4",
        "execution_start": 1652191202695,
        "execution_millis": 165,
        "owner_user_id": "448f42ce-c96d-482f-83db-aa45b6101395",
        "deepnote_cell_type": "code",
        "deepnote_cell_height": 656.90625,
        "id": "AwE3CL5dTHKI",
        "outputId": "1cf069e7-8f1f-46ea-97ed-b8208580f129",
        "colab": {
          "base_uri": "https://localhost:8080/",
          "height": 223
        }
      },
      "outputs": [
        {
          "output_type": "stream",
          "name": "stdout",
          "text": [
            "Nous avons : 51449 couples Q&A.\n"
          ]
        },
        {
          "output_type": "execute_result",
          "data": {
            "text/plain": [
              "                            Question  \\\n",
              "0  Quels sont tes centres d'interets   \n",
              "1  Quels sont tes centres d'interets   \n",
              "2     Quels sont tes sujets preferes   \n",
              "3                Quel est ton numero   \n",
              "4                Quel est ton numero   \n",
              "\n",
              "                                             Reponse   Catégorie Type  \\\n",
              "0  Je suis interessé par beaucoup de choses. Nous...  BotProfile   QR   \n",
              "1  Je suis interessé par une grande variete de su...  BotProfile   QR   \n",
              "2  Mes sujets preferes incluent la robotique, l'i...  BotProfile   QR   \n",
              "3                             Je n'ai pas de numero.  BotProfile   QR   \n",
              "4                 5446, c'est mon numero maintenant.  BotProfile   QR   \n",
              "\n",
              "                     Source  FR?  \n",
              "0  chatterbot-corpus-french  Oui  \n",
              "1  chatterbot-corpus-french  Oui  \n",
              "2  chatterbot-corpus-french  Oui  \n",
              "3  chatterbot-corpus-french  Oui  \n",
              "4  chatterbot-corpus-french  Oui  "
            ],
            "text/html": [
              "\n",
              "  <div id=\"df-5f44e992-1f87-47e0-91ea-ddc601e58400\">\n",
              "    <div class=\"colab-df-container\">\n",
              "      <div>\n",
              "<style scoped>\n",
              "    .dataframe tbody tr th:only-of-type {\n",
              "        vertical-align: middle;\n",
              "    }\n",
              "\n",
              "    .dataframe tbody tr th {\n",
              "        vertical-align: top;\n",
              "    }\n",
              "\n",
              "    .dataframe thead th {\n",
              "        text-align: right;\n",
              "    }\n",
              "</style>\n",
              "<table border=\"1\" class=\"dataframe\">\n",
              "  <thead>\n",
              "    <tr style=\"text-align: right;\">\n",
              "      <th></th>\n",
              "      <th>Question</th>\n",
              "      <th>Reponse</th>\n",
              "      <th>Catégorie</th>\n",
              "      <th>Type</th>\n",
              "      <th>Source</th>\n",
              "      <th>FR?</th>\n",
              "    </tr>\n",
              "  </thead>\n",
              "  <tbody>\n",
              "    <tr>\n",
              "      <th>0</th>\n",
              "      <td>Quels sont tes centres d'interets</td>\n",
              "      <td>Je suis interessé par beaucoup de choses. Nous...</td>\n",
              "      <td>BotProfile</td>\n",
              "      <td>QR</td>\n",
              "      <td>chatterbot-corpus-french</td>\n",
              "      <td>Oui</td>\n",
              "    </tr>\n",
              "    <tr>\n",
              "      <th>1</th>\n",
              "      <td>Quels sont tes centres d'interets</td>\n",
              "      <td>Je suis interessé par une grande variete de su...</td>\n",
              "      <td>BotProfile</td>\n",
              "      <td>QR</td>\n",
              "      <td>chatterbot-corpus-french</td>\n",
              "      <td>Oui</td>\n",
              "    </tr>\n",
              "    <tr>\n",
              "      <th>2</th>\n",
              "      <td>Quels sont tes sujets preferes</td>\n",
              "      <td>Mes sujets preferes incluent la robotique, l'i...</td>\n",
              "      <td>BotProfile</td>\n",
              "      <td>QR</td>\n",
              "      <td>chatterbot-corpus-french</td>\n",
              "      <td>Oui</td>\n",
              "    </tr>\n",
              "    <tr>\n",
              "      <th>3</th>\n",
              "      <td>Quel est ton numero</td>\n",
              "      <td>Je n'ai pas de numero.</td>\n",
              "      <td>BotProfile</td>\n",
              "      <td>QR</td>\n",
              "      <td>chatterbot-corpus-french</td>\n",
              "      <td>Oui</td>\n",
              "    </tr>\n",
              "    <tr>\n",
              "      <th>4</th>\n",
              "      <td>Quel est ton numero</td>\n",
              "      <td>5446, c'est mon numero maintenant.</td>\n",
              "      <td>BotProfile</td>\n",
              "      <td>QR</td>\n",
              "      <td>chatterbot-corpus-french</td>\n",
              "      <td>Oui</td>\n",
              "    </tr>\n",
              "  </tbody>\n",
              "</table>\n",
              "</div>\n",
              "      <button class=\"colab-df-convert\" onclick=\"convertToInteractive('df-5f44e992-1f87-47e0-91ea-ddc601e58400')\"\n",
              "              title=\"Convert this dataframe to an interactive table.\"\n",
              "              style=\"display:none;\">\n",
              "        \n",
              "  <svg xmlns=\"http://www.w3.org/2000/svg\" height=\"24px\"viewBox=\"0 0 24 24\"\n",
              "       width=\"24px\">\n",
              "    <path d=\"M0 0h24v24H0V0z\" fill=\"none\"/>\n",
              "    <path d=\"M18.56 5.44l.94 2.06.94-2.06 2.06-.94-2.06-.94-.94-2.06-.94 2.06-2.06.94zm-11 1L8.5 8.5l.94-2.06 2.06-.94-2.06-.94L8.5 2.5l-.94 2.06-2.06.94zm10 10l.94 2.06.94-2.06 2.06-.94-2.06-.94-.94-2.06-.94 2.06-2.06.94z\"/><path d=\"M17.41 7.96l-1.37-1.37c-.4-.4-.92-.59-1.43-.59-.52 0-1.04.2-1.43.59L10.3 9.45l-7.72 7.72c-.78.78-.78 2.05 0 2.83L4 21.41c.39.39.9.59 1.41.59.51 0 1.02-.2 1.41-.59l7.78-7.78 2.81-2.81c.8-.78.8-2.07 0-2.86zM5.41 20L4 18.59l7.72-7.72 1.47 1.35L5.41 20z\"/>\n",
              "  </svg>\n",
              "      </button>\n",
              "      \n",
              "  <style>\n",
              "    .colab-df-container {\n",
              "      display:flex;\n",
              "      flex-wrap:wrap;\n",
              "      gap: 12px;\n",
              "    }\n",
              "\n",
              "    .colab-df-convert {\n",
              "      background-color: #E8F0FE;\n",
              "      border: none;\n",
              "      border-radius: 50%;\n",
              "      cursor: pointer;\n",
              "      display: none;\n",
              "      fill: #1967D2;\n",
              "      height: 32px;\n",
              "      padding: 0 0 0 0;\n",
              "      width: 32px;\n",
              "    }\n",
              "\n",
              "    .colab-df-convert:hover {\n",
              "      background-color: #E2EBFA;\n",
              "      box-shadow: 0px 1px 2px rgba(60, 64, 67, 0.3), 0px 1px 3px 1px rgba(60, 64, 67, 0.15);\n",
              "      fill: #174EA6;\n",
              "    }\n",
              "\n",
              "    [theme=dark] .colab-df-convert {\n",
              "      background-color: #3B4455;\n",
              "      fill: #D2E3FC;\n",
              "    }\n",
              "\n",
              "    [theme=dark] .colab-df-convert:hover {\n",
              "      background-color: #434B5C;\n",
              "      box-shadow: 0px 1px 3px 1px rgba(0, 0, 0, 0.15);\n",
              "      filter: drop-shadow(0px 1px 2px rgba(0, 0, 0, 0.3));\n",
              "      fill: #FFFFFF;\n",
              "    }\n",
              "  </style>\n",
              "\n",
              "      <script>\n",
              "        const buttonEl =\n",
              "          document.querySelector('#df-5f44e992-1f87-47e0-91ea-ddc601e58400 button.colab-df-convert');\n",
              "        buttonEl.style.display =\n",
              "          google.colab.kernel.accessAllowed ? 'block' : 'none';\n",
              "\n",
              "        async function convertToInteractive(key) {\n",
              "          const element = document.querySelector('#df-5f44e992-1f87-47e0-91ea-ddc601e58400');\n",
              "          const dataTable =\n",
              "            await google.colab.kernel.invokeFunction('convertToInteractive',\n",
              "                                                     [key], {});\n",
              "          if (!dataTable) return;\n",
              "\n",
              "          const docLinkHtml = 'Like what you see? Visit the ' +\n",
              "            '<a target=\"_blank\" href=https://colab.research.google.com/notebooks/data_table.ipynb>data table notebook</a>'\n",
              "            + ' to learn more about interactive tables.';\n",
              "          element.innerHTML = '';\n",
              "          dataTable['output_type'] = 'display_data';\n",
              "          await google.colab.output.renderOutput(dataTable, element);\n",
              "          const docLink = document.createElement('div');\n",
              "          docLink.innerHTML = docLinkHtml;\n",
              "          element.appendChild(docLink);\n",
              "        }\n",
              "      </script>\n",
              "    </div>\n",
              "  </div>\n",
              "  "
            ]
          },
          "metadata": {},
          "execution_count": 81
        }
      ],
      "execution_count": 81
    },
    {
      "cell_type": "markdown",
      "source": [
        "### Sans conditions sur les sous-ensembles dont se compose le dataset\n",
        "Notre ensemble étant conçus de plusieurs dialogues, Q&A... d'autres dataset (traduit ou non ; détails dans le fichier ```TODO: À METTRE PLUS TARD```), le but ici est de créer un test set avec K couples de Q&A tirés de façon totalement aléatoire. \n",
        "\n",
        "Le test set sera unique quand aux questions, aucune vérifications sur les réponses. Autrement dit, *nous n'auraons pas des questions identiques mais un doublon de réponse pourrait apparaître.*"
      ],
      "metadata": {
        "cell_id": "9d58adee572c425aa97a2bf99951b272",
        "tags": [],
        "deepnote_cell_type": "markdown",
        "deepnote_cell_height": 181.5,
        "id": "IUfuzQZzTHKL"
      }
    },
    {
      "cell_type": "code",
      "source": [
        ""
      ],
      "metadata": {
        "id": "Z6wUhP9JTUuY"
      },
      "execution_count": 81,
      "outputs": []
    },
    {
      "outputs": [
        {
          "output_type": "execute_result",
          "data": {
            "text/plain": [
              "((50449, 6), (1000, 6))"
            ]
          },
          "metadata": {},
          "execution_count": 82
        }
      ],
      "execution_count": 82,
      "cell_type": "code",
      "source": [
        "from sklearn.model_selection import train_test_split\n",
        "\n",
        "# Avoir 1000 données pour l'ensemble de test\n",
        "train_df, test_df = train_test_split(df_to_split, shuffle=True, test_size=1000*1.0/len(df_to_split), random_state=21)\n",
        "train_df.shape, test_df.shape\n",
        "\n"
      ],
      "metadata": {
        "cell_id": "0b43f7f86e904335a516922514deb8ff",
        "tags": [],
        "deepnote_cell_type": "code",
        "deepnote_cell_height": 101.921875,
        "id": "UazH6jHSTHKM",
        "outputId": "ebf1adb9-abe6-4798-d86b-2c20b586b1c3",
        "colab": {
          "base_uri": "https://localhost:8080/"
        }
      }
    },
    {
      "cell_type": "code",
      "source": [
        "# Avoir 1000 données pour l'ensemble de test\n",
        "train_df2, test_df2 = train_test_split(df_to_split, shuffle=True, test_size=5000*1.0/len(df_to_split), random_state=21)\n",
        "train_df2.shape, test_df2.shape\n",
        "\n"
      ],
      "metadata": {
        "colab": {
          "base_uri": "https://localhost:8080/"
        },
        "id": "j4iGfA05Pktf",
        "outputId": "86b12636-fcb4-4cb6-b034-7596fc8bff45"
      },
      "execution_count": 83,
      "outputs": [
        {
          "output_type": "execute_result",
          "data": {
            "text/plain": [
              "((46449, 6), (5000, 6))"
            ]
          },
          "metadata": {},
          "execution_count": 83
        }
      ]
    },
    {
      "cell_type": "code",
      "source": [
        "# Get names of indexes for which the question is the same in the training set as in the test set\n",
        "indexNames = train_df[ train_df['Question'].isin(list(test_df['Question']) )].index\n",
        "\n",
        "# mask sur les questions existantes sur le test\n",
        "rows_to_remove = train_df.loc[indexNames]\n",
        "print(\"Nous allons devoir supprimer \", len(rows_to_remove), \"questions du train_set car ces dernières apparaîssent dans le test_set.\\n\")\n",
        "\n",
        "# Delete these row indexes from dataFrame\n",
        "train_df.drop(indexNames , inplace=True)\n",
        "\n",
        "train_df = train_df[[\"Question\", \"Reponse\"]]\n",
        "test_df = test_df[[\"Question\", \"Reponse\"]]\n",
        "\n",
        "OUTPUT_PATH = \"./output/\"\n",
        "train_df.to_csv(OUTPUT_PATH + \"train_df_1000.tsv\", sep=\"\\t\", index=False)\n",
        "test_df.to_csv(OUTPUT_PATH + \"test_df_1000.tsv\", sep=\"\\t\", index=False)\n",
        "\n",
        "# The size of the training set goes down a bit\n",
        "print(\"Respectivement, la taille du train et test set:\")\n",
        "train_df.shape, test_df.shape"
      ],
      "metadata": {
        "id": "IwExBkUqaGwq",
        "outputId": "f6082511-fbe2-49a2-93c3-66188e448f2b",
        "colab": {
          "base_uri": "https://localhost:8080/"
        }
      },
      "execution_count": 84,
      "outputs": [
        {
          "output_type": "stream",
          "name": "stdout",
          "text": [
            "Nous allons devoir supprimer  916 questions du train_set car ces dernières apparaîssent dans le test_set.\n",
            "\n",
            "Respectivement, la taille du train et test set:\n"
          ]
        },
        {
          "output_type": "execute_result",
          "data": {
            "text/plain": [
              "((49533, 2), (1000, 2))"
            ]
          },
          "metadata": {},
          "execution_count": 84
        }
      ]
    },
    {
      "cell_type": "code",
      "source": [
        "# Get names of indexes for which the question is the same in the training set as in the test set\n",
        "indexNames2 = train_df2[ train_df2['Question'].isin(list(test_df2['Question']) )].index\n",
        "\n",
        "# mask sur les questions existantes sur le test\n",
        "rows_to_remove2 = train_df2.loc[indexNames2]\n",
        "print(\"Nous allons devoir supprimer \", len(rows_to_remove2), \"questions du train_set car ces dernières apparaîssent dans le test_set.\\n\")\n",
        "\n",
        "# Delete these row indexes from dataFrame\n",
        "train_df2.drop(indexNames2 , inplace=True)\n",
        "\n",
        "\n",
        "train_df2 = train_df2[[\"Question\", \"Reponse\"]]\n",
        "test_df2 = test_df2[[\"Question\", \"Reponse\"]]\n",
        "\n",
        "OUTPUT_PATH = \"./output/\"\n",
        "train_df2.to_csv(OUTPUT_PATH + \"train_df2_5000.tsv\", sep=\"\\t\", index=False)\n",
        "test_df2.to_csv(OUTPUT_PATH + \"test_df2_5000.tsv\", sep=\"\\t\", index=False)\n",
        "\n",
        "# The size of the training set goes down a bit\n",
        "print(\"Respectivement, la taille du train et test set:\")\n",
        "train_df2.shape, test_df2.shape\n"
      ],
      "metadata": {
        "colab": {
          "base_uri": "https://localhost:8080/"
        },
        "id": "-5CPwg-aPyPz",
        "outputId": "f74f02aa-77b1-4151-cf32-b5def3617874"
      },
      "execution_count": 85,
      "outputs": [
        {
          "output_type": "stream",
          "name": "stdout",
          "text": [
            "Nous allons devoir supprimer  3610 questions du train_set car ces dernières apparaîssent dans le test_set.\n",
            "\n",
            "Respectivement, la taille du train et test set:\n"
          ]
        },
        {
          "output_type": "execute_result",
          "data": {
            "text/plain": [
              "((42839, 2), (5000, 2))"
            ]
          },
          "metadata": {},
          "execution_count": 85
        }
      ]
    },
    {
      "cell_type": "markdown",
      "source": [
        "### Avec conditions sur les sous-ensembles dont se compose le dataset\n",
        "Notre dataset actuel/final est composé de plusieurs sous-datasets, nous aimerons en masquer quelques un (c'est-à-dire ne pas les inclure dans le train) pour voir quel comportement pourrait avoir le ChatBot."
      ],
      "metadata": {
        "id": "tyzKZYv2uJ88"
      }
    },
    {
      "cell_type": "code",
      "source": [
        "df_to_split[\"Catégorie\"].value_counts()"
      ],
      "metadata": {
        "id": "st9GNe61bBfS",
        "colab": {
          "base_uri": "https://localhost:8080/"
        },
        "outputId": "9a7f2d2c-8c18-4833-fb82-acea729a4553"
      },
      "execution_count": 86,
      "outputs": [
        {
          "output_type": "execute_result",
          "data": {
            "text/plain": [
              "BotProfile       9817\n",
              "Conversations    5660\n",
              "Psy               781\n",
              "Divers            295\n",
              "Emotion           207\n",
              "Psycho             65\n",
              "Nourriture          6\n",
              "XXXX                1\n",
              "Name: Catégorie, dtype: int64"
            ]
          },
          "metadata": {},
          "execution_count": 86
        }
      ]
    },
    {
      "cell_type": "code",
      "source": [
        "df_to_split[\"Source\"].value_counts()"
      ],
      "metadata": {
        "id": "xpFiXteTbBco",
        "colab": {
          "base_uri": "https://localhost:8080/"
        },
        "outputId": "04b6dcb6-9313-4671-f6a1-8e6619f76d74"
      },
      "execution_count": 87,
      "outputs": [
        {
          "output_type": "execute_result",
          "data": {
            "text/plain": [
              "Facebook-Research            24377\n",
              "chatbot-professional          9797\n",
              "Circa                         9614\n",
              "DialogueJarvis                3725\n",
              "DialogueQA                    1128\n",
              "CounsilChat                    781\n",
              "DialogueHumanChat              760\n",
              "Elizia                         617\n",
              "chatterbot-corpus-english      527\n",
              "chatbot-depression              65\n",
              "chatterbot-corpus-french        48\n",
              "freestyle                       10\n",
              "Name: Source, dtype: int64"
            ]
          },
          "metadata": {},
          "execution_count": 87
        }
      ]
    },
    {
      "cell_type": "markdown",
      "source": [
        "#### 1. En masquant le "
      ],
      "metadata": {
        "id": "PYjOwEGyX3kk"
      }
    },
    {
      "cell_type": "code",
      "source": [
        "mask_fb_research = (df_to_split[\"Source\"] == \"Facebook-Research\")\n",
        "df_wo_fbresearch = df_to_split[~mask_fb_research]\n",
        "\n",
        "df_wo_fbresearch = df_wo_fbresearch[[\"Question\", \"Reponse\"]]\n",
        "\n",
        "df_wo_fbresearch.to_csv(OUTPUT_PATH + \"wo_fb_research.tsv\", sep=\"\\t\", index=False)"
      ],
      "metadata": {
        "id": "z02fPTwhbBZZ"
      },
      "execution_count": 88,
      "outputs": []
    },
    {
      "cell_type": "code",
      "source": [
        "mask_professional = (df_to_split[\"Source\"] == \"DialogueQA\")\n",
        "mask_circa = (df_to_split[\"Source\"] == \"Circa\")\n",
        "\n",
        "mask =  mask_circa + mask_professional # 'or' \n",
        "\n",
        "df_wo_professional_and_circa = df_to_split[~mask]\n",
        "\n",
        "df_wo_professional_and_circa = df_wo_professional_and_circa[[\"Question\", \"Reponse\"]]\n",
        "\n",
        "df_wo_professional_and_circa.to_csv(OUTPUT_PATH + \"df_wo_professional_and_circa.tsv\", sep=\"\\t\", index=False)"
      ],
      "metadata": {
        "id": "63HuhksibBOk"
      },
      "execution_count": 89,
      "outputs": []
    },
    {
      "cell_type": "code",
      "source": [
        ""
      ],
      "metadata": {
        "id": "35Fe_e1Skdtl"
      },
      "execution_count": 93,
      "outputs": []
    }
  ],
  "nbformat": 4,
  "nbformat_minor": 0,
  "metadata": {
    "orig_nbformat": 2,
    "deepnote": {},
    "deepnote_notebook_id": "e87682e6-4f81-4f08-b95f-1bd135fab3a0",
    "deepnote_execution_queue": [],
    "colab": {
      "name": "split data.ipynb",
      "provenance": []
    },
    "language_info": {
      "name": "python"
    },
    "kernelspec": {
      "name": "python3",
      "display_name": "Python 3"
    }
  }
}