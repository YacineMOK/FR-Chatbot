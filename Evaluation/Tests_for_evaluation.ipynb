{
 "cells": [
  {
   "cell_type": "markdown",
   "source": "## ⚠ Remarque: ⚠ \nC'est juste un notebook draft pour tester split en train et test & l'évaluation sur BLEU score.\n\n--- > Il faudrait split le train et le test comme fait ici, save le test set de coté. Entrainer le model avec le training set. Puis évaluer sur le test set. \n\nLà je teste sur un model déjà save qui s'est entrainé sur tout le set de départ (train + test) donc c'est à ne pas prendre en compte !",
   "metadata": {
    "id": "PhVlHfDIXIbe",
    "cell_id": "b99413b3-8692-4cac-b797-c376217c6260",
    "deepnote_cell_type": "markdown",
    "deepnote_cell_height": 203.5
   }
  },
  {
   "cell_type": "code",
   "metadata": {
    "id": "Ohn7nh5dPrfP",
    "cell_id": "00001-1bc0b962-fe3d-467f-a0e4-af05ef532521",
    "deepnote_to_be_reexecuted": false,
    "source_hash": "1426aeae",
    "execution_start": 1652185334403,
    "execution_millis": 15973,
    "deepnote_cell_type": "code",
    "deepnote_cell_height": 700.921875
   },
   "source": "!pip install simplet5",
   "outputs": [
    {
     "name": "stdout",
     "text": "Collecting simplet5\n  Downloading simplet5-0.1.4.tar.gz (7.3 kB)\nRequirement already satisfied: numpy in /shared-libs/python3.7/py/lib/python3.7/site-packages (from simplet5) (1.21.6)\nRequirement already satisfied: pandas in /shared-libs/python3.7/py/lib/python3.7/site-packages (from simplet5) (1.2.5)\nCollecting sentencepiece\n  Downloading sentencepiece-0.1.96-cp37-cp37m-manylinux_2_17_x86_64.manylinux2014_x86_64.whl (1.2 MB)\n\u001b[K     |████████████████████████████████| 1.2 MB 34.5 MB/s \n\u001b[?25hRequirement already satisfied: torch!=1.8.0,>=1.7.0 in /shared-libs/python3.7/py/lib/python3.7/site-packages (from simplet5) (1.11.0)\nCollecting transformers==4.16.2\n  Downloading transformers-4.16.2-py3-none-any.whl (3.5 MB)\n\u001b[K     |████████████████████████████████| 3.5 MB 52.6 MB/s \n\u001b[?25hCollecting pytorch-lightning==1.5.10\n  Downloading pytorch_lightning-1.5.10-py3-none-any.whl (527 kB)\n\u001b[K     |████████████████████████████████| 527 kB 58.9 MB/s \n\u001b[?25hRequirement already satisfied: python-dateutil>=2.7.3 in /shared-libs/python3.7/py-core/lib/python3.7/site-packages (from pandas->simplet5) (2.8.2)\nRequirement already satisfied: pytz>=2017.3 in /shared-libs/python3.7/py/lib/python3.7/site-packages (from pandas->simplet5) (2022.1)\nRequirement already satisfied: typing-extensions in /shared-libs/python3.7/py-core/lib/python3.7/site-packages (from torch!=1.8.0,>=1.7.0->simplet5) (4.2.0)\nRequirement already satisfied: packaging>=20.0 in /shared-libs/python3.7/py/lib/python3.7/site-packages (from transformers==4.16.2->simplet5) (21.3)\nRequirement already satisfied: requests in /shared-libs/python3.7/py/lib/python3.7/site-packages (from transformers==4.16.2->simplet5) (2.27.1)\nCollecting sacremoses\n  Downloading sacremoses-0.0.53.tar.gz (880 kB)\n\u001b[K     |████████████████████████████████| 880 kB 60.9 MB/s \n\u001b[?25hCollecting huggingface-hub<1.0,>=0.1.0\n  Downloading huggingface_hub-0.5.1-py3-none-any.whl (77 kB)\n\u001b[K     |████████████████████████████████| 77 kB 14.5 MB/s \n\u001b[?25hRequirement already satisfied: importlib-metadata; python_version < \"3.8\" in /shared-libs/python3.7/py-core/lib/python3.7/site-packages (from transformers==4.16.2->simplet5) (4.11.3)\nRequirement already satisfied: tqdm>=4.27 in /shared-libs/python3.7/py/lib/python3.7/site-packages (from transformers==4.16.2->simplet5) (4.64.0)\nRequirement already satisfied: filelock in /shared-libs/python3.7/py/lib/python3.7/site-packages (from transformers==4.16.2->simplet5) (3.6.0)\nRequirement already satisfied: regex!=2019.12.17 in /shared-libs/python3.7/py/lib/python3.7/site-packages (from transformers==4.16.2->simplet5) (2022.4.24)\nCollecting tokenizers!=0.11.3,>=0.10.1\n  Downloading tokenizers-0.12.1-cp37-cp37m-manylinux_2_12_x86_64.manylinux2010_x86_64.whl (6.6 MB)\n\u001b[K     |████████████████████████████████| 6.6 MB 51.0 MB/s \n\u001b[?25hRequirement already satisfied: pyyaml>=5.1 in /shared-libs/python3.7/py/lib/python3.7/site-packages (from transformers==4.16.2->simplet5) (6.0)\nRequirement already satisfied: future>=0.17.1 in /shared-libs/python3.7/py/lib/python3.7/site-packages (from pytorch-lightning==1.5.10->simplet5) (0.18.2)\nCollecting fsspec[http]!=2021.06.0,>=2021.05.0\n  Downloading fsspec-2022.3.0-py3-none-any.whl (136 kB)\n\u001b[K     |████████████████████████████████| 136 kB 74.1 MB/s \n\u001b[?25hCollecting setuptools==59.5.0\n  Downloading setuptools-59.5.0-py3-none-any.whl (952 kB)\n\u001b[K     |████████████████████████████████| 952 kB 51.2 MB/s \n\u001b[?25hCollecting torchmetrics>=0.4.1\n  Downloading torchmetrics-0.8.2-py3-none-any.whl (409 kB)\n\u001b[K     |████████████████████████████████| 409 kB 67.8 MB/s \n\u001b[?25hRequirement already satisfied: tensorboard>=2.2.0 in /shared-libs/python3.7/py/lib/python3.7/site-packages (from pytorch-lightning==1.5.10->simplet5) (2.8.0)\nCollecting pyDeprecate==0.3.1\n  Downloading pyDeprecate-0.3.1-py3-none-any.whl (10 kB)\nRequirement already satisfied: six>=1.5 in /shared-libs/python3.7/py-core/lib/python3.7/site-packages (from python-dateutil>=2.7.3->pandas->simplet5) (1.16.0)\nRequirement already satisfied: pyparsing!=3.0.5,>=2.0.2 in /shared-libs/python3.7/py/lib/python3.7/site-packages (from packaging>=20.0->transformers==4.16.2->simplet5) (3.0.8)\nRequirement already satisfied: certifi>=2017.4.17 in /shared-libs/python3.7/py/lib/python3.7/site-packages (from requests->transformers==4.16.2->simplet5) (2021.10.8)\nRequirement already satisfied: urllib3<1.27,>=1.21.1 in /shared-libs/python3.7/py/lib/python3.7/site-packages (from requests->transformers==4.16.2->simplet5) (1.26.9)\nRequirement already satisfied: idna<4,>=2.5; python_version >= \"3\" in /shared-libs/python3.7/py-core/lib/python3.7/site-packages (from requests->transformers==4.16.2->simplet5) (3.3)\nRequirement already satisfied: charset-normalizer~=2.0.0; python_version >= \"3\" in /shared-libs/python3.7/py-core/lib/python3.7/site-packages (from requests->transformers==4.16.2->simplet5) (2.0.12)\nRequirement already satisfied: click in /shared-libs/python3.7/py/lib/python3.7/site-packages (from sacremoses->transformers==4.16.2->simplet5) (8.0.4)\nRequirement already satisfied: joblib in /shared-libs/python3.7/py/lib/python3.7/site-packages (from sacremoses->transformers==4.16.2->simplet5) (1.1.0)\nRequirement already satisfied: zipp>=0.5 in /shared-libs/python3.7/py-core/lib/python3.7/site-packages (from importlib-metadata; python_version < \"3.8\"->transformers==4.16.2->simplet5) (3.8.0)\nRequirement already satisfied: aiohttp; extra == \"http\" in /shared-libs/python3.7/py-core/lib/python3.7/site-packages (from fsspec[http]!=2021.06.0,>=2021.05.0->pytorch-lightning==1.5.10->simplet5) (3.8.1)\nRequirement already satisfied: markdown>=2.6.8 in /shared-libs/python3.7/py/lib/python3.7/site-packages (from tensorboard>=2.2.0->pytorch-lightning==1.5.10->simplet5) (3.3.6)\nRequirement already satisfied: grpcio>=1.24.3 in /shared-libs/python3.7/py/lib/python3.7/site-packages (from tensorboard>=2.2.0->pytorch-lightning==1.5.10->simplet5) (1.44.0)\nRequirement already satisfied: tensorboard-data-server<0.7.0,>=0.6.0 in /shared-libs/python3.7/py/lib/python3.7/site-packages (from tensorboard>=2.2.0->pytorch-lightning==1.5.10->simplet5) (0.6.1)\nRequirement already satisfied: tensorboard-plugin-wit>=1.6.0 in /shared-libs/python3.7/py/lib/python3.7/site-packages (from tensorboard>=2.2.0->pytorch-lightning==1.5.10->simplet5) (1.8.1)\nRequirement already satisfied: werkzeug>=0.11.15 in /shared-libs/python3.7/py/lib/python3.7/site-packages (from tensorboard>=2.2.0->pytorch-lightning==1.5.10->simplet5) (2.1.1)\nRequirement already satisfied: wheel>=0.26 in /usr/local/lib/python3.7/site-packages (from tensorboard>=2.2.0->pytorch-lightning==1.5.10->simplet5) (0.37.0)\nRequirement already satisfied: google-auth<3,>=1.6.3 in /shared-libs/python3.7/py/lib/python3.7/site-packages (from tensorboard>=2.2.0->pytorch-lightning==1.5.10->simplet5) (2.6.6)\nRequirement already satisfied: protobuf>=3.6.0 in /shared-libs/python3.7/py/lib/python3.7/site-packages (from tensorboard>=2.2.0->pytorch-lightning==1.5.10->simplet5) (3.20.1)\nRequirement already satisfied: absl-py>=0.4 in /shared-libs/python3.7/py/lib/python3.7/site-packages (from tensorboard>=2.2.0->pytorch-lightning==1.5.10->simplet5) (1.0.0)\nRequirement already satisfied: google-auth-oauthlib<0.5,>=0.4.1 in /shared-libs/python3.7/py/lib/python3.7/site-packages (from tensorboard>=2.2.0->pytorch-lightning==1.5.10->simplet5) (0.4.6)\nRequirement already satisfied: yarl<2.0,>=1.0 in /shared-libs/python3.7/py-core/lib/python3.7/site-packages (from aiohttp; extra == \"http\"->fsspec[http]!=2021.06.0,>=2021.05.0->pytorch-lightning==1.5.10->simplet5) (1.7.2)\nRequirement already satisfied: attrs>=17.3.0 in /shared-libs/python3.7/py-core/lib/python3.7/site-packages (from aiohttp; extra == \"http\"->fsspec[http]!=2021.06.0,>=2021.05.0->pytorch-lightning==1.5.10->simplet5) (21.4.0)\nRequirement already satisfied: asynctest==0.13.0; python_version < \"3.8\" in /shared-libs/python3.7/py-core/lib/python3.7/site-packages (from aiohttp; extra == \"http\"->fsspec[http]!=2021.06.0,>=2021.05.0->pytorch-lightning==1.5.10->simplet5) (0.13.0)\nRequirement already satisfied: aiosignal>=1.1.2 in /shared-libs/python3.7/py-core/lib/python3.7/site-packages (from aiohttp; extra == \"http\"->fsspec[http]!=2021.06.0,>=2021.05.0->pytorch-lightning==1.5.10->simplet5) (1.2.0)\nRequirement already satisfied: async-timeout<5.0,>=4.0.0a3 in /shared-libs/python3.7/py-core/lib/python3.7/site-packages (from aiohttp; extra == \"http\"->fsspec[http]!=2021.06.0,>=2021.05.0->pytorch-lightning==1.5.10->simplet5) (4.0.2)\nRequirement already satisfied: multidict<7.0,>=4.5 in /shared-libs/python3.7/py-core/lib/python3.7/site-packages (from aiohttp; extra == \"http\"->fsspec[http]!=2021.06.0,>=2021.05.0->pytorch-lightning==1.5.10->simplet5) (6.0.2)\nRequirement already satisfied: frozenlist>=1.1.1 in /shared-libs/python3.7/py-core/lib/python3.7/site-packages (from aiohttp; extra == \"http\"->fsspec[http]!=2021.06.0,>=2021.05.0->pytorch-lightning==1.5.10->simplet5) (1.3.0)\nRequirement already satisfied: cachetools<6.0,>=2.0.0 in /shared-libs/python3.7/py/lib/python3.7/site-packages (from google-auth<3,>=1.6.3->tensorboard>=2.2.0->pytorch-lightning==1.5.10->simplet5) (5.0.0)\nRequirement already satisfied: rsa<5,>=3.1.4; python_version >= \"3.6\" in /shared-libs/python3.7/py/lib/python3.7/site-packages (from google-auth<3,>=1.6.3->tensorboard>=2.2.0->pytorch-lightning==1.5.10->simplet5) (4.8)\nRequirement already satisfied: pyasn1-modules>=0.2.1 in /shared-libs/python3.7/py/lib/python3.7/site-packages (from google-auth<3,>=1.6.3->tensorboard>=2.2.0->pytorch-lightning==1.5.10->simplet5) (0.2.8)\nRequirement already satisfied: requests-oauthlib>=0.7.0 in /shared-libs/python3.7/py/lib/python3.7/site-packages (from google-auth-oauthlib<0.5,>=0.4.1->tensorboard>=2.2.0->pytorch-lightning==1.5.10->simplet5) (1.3.1)\nRequirement already satisfied: pyasn1>=0.1.3 in /shared-libs/python3.7/py/lib/python3.7/site-packages (from rsa<5,>=3.1.4; python_version >= \"3.6\"->google-auth<3,>=1.6.3->tensorboard>=2.2.0->pytorch-lightning==1.5.10->simplet5) (0.4.8)\nRequirement already satisfied: oauthlib>=3.0.0 in /shared-libs/python3.7/py/lib/python3.7/site-packages (from requests-oauthlib>=0.7.0->google-auth-oauthlib<0.5,>=0.4.1->tensorboard>=2.2.0->pytorch-lightning==1.5.10->simplet5) (3.2.0)\nBuilding wheels for collected packages: simplet5, sacremoses\n  Building wheel for simplet5 (setup.py) ... \u001b[?25ldone\n\u001b[?25h  Created wheel for simplet5: filename=simplet5-0.1.4-py3-none-any.whl size=6874 sha256=d006d187271dbadbf166c22665e55fd6f07b21a0f697787cc42834669765e508\n  Stored in directory: /root/.cache/pip/wheels/30/1b/96/47ad5fda68def6635961fd0ca312fc0ce3670936ae09d97c43\n  Building wheel for sacremoses (setup.py) ... \u001b[?25ldone\n\u001b[?25h  Created wheel for sacremoses: filename=sacremoses-0.0.53-py3-none-any.whl size=895253 sha256=4e09d7f6ee29ffcae02cca6df856053f217d624b25f2b5d1c54c71c7161f3a69\n  Stored in directory: /root/.cache/pip/wheels/87/39/dd/a83eeef36d0bf98e7a4d1933a4ad2d660295a40613079bafc9\nSuccessfully built simplet5 sacremoses\n\u001b[31mERROR: thinc 8.0.15 has requirement typing-extensions<4.0.0.0,>=3.7.4.1; python_version < \"3.8\", but you'll have typing-extensions 4.2.0 which is incompatible.\u001b[0m\n\u001b[31mERROR: spacy 3.2.4 has requirement typing-extensions<4.0.0.0,>=3.7.4; python_version < \"3.8\", but you'll have typing-extensions 4.2.0 which is incompatible.\u001b[0m\nInstalling collected packages: sentencepiece, sacremoses, huggingface-hub, tokenizers, transformers, fsspec, setuptools, pyDeprecate, torchmetrics, pytorch-lightning, simplet5\n  Attempting uninstall: setuptools\n    Found existing installation: setuptools 47.1.0\n    Uninstalling setuptools-47.1.0:\n      Successfully uninstalled setuptools-47.1.0\nSuccessfully installed fsspec-2022.3.0 huggingface-hub-0.5.1 pyDeprecate-0.3.1 pytorch-lightning-1.5.10 sacremoses-0.0.53 sentencepiece-0.1.96 setuptools-59.5.0 simplet5-0.1.4 tokenizers-0.12.1 torchmetrics-0.8.2 transformers-4.16.2\n\u001b[33mWARNING: You are using pip version 20.1.1; however, version 22.0.4 is available.\nYou should consider upgrading via the '/root/venv/bin/python -m pip install --upgrade pip' command.\u001b[0m\n",
     "output_type": "stream"
    }
   ],
   "execution_count": null
  },
  {
   "cell_type": "code",
   "metadata": {
    "id": "yb9FU0kgv5TM",
    "cell_id": "00002-206c3cad-9b33-4d09-9e78-1e7372304f47",
    "deepnote_to_be_reexecuted": false,
    "source_hash": "b7503960",
    "execution_start": 1652185329160,
    "execution_millis": 343,
    "owner_user_id": "448f42ce-c96d-482f-83db-aa45b6101395",
    "deepnote_cell_type": "code",
    "deepnote_cell_height": 315.046875
   },
   "source": "import numpy as np\nimport pandas as pd\nimport joblib\n\nfrom simplet5 import SimpleT5\nfrom tqdm import tqdm\nfrom sklearn.model_selection import train_test_split\nfrom nltk.translate.bleu_score import sentence_bleu",
   "outputs": [
    {
     "output_type": "error",
     "ename": "ModuleNotFoundError",
     "evalue": "No module named 'simplet5'",
     "traceback": [
      "\u001b[0;31m---------------------------------------------------------------------------\u001b[0m",
      "\u001b[0;31mModuleNotFoundError\u001b[0m                       Traceback (most recent call last)",
      "\u001b[0;32m<ipython-input-1-ca0dd6de129e>\u001b[0m in \u001b[0;36m<module>\u001b[0;34m\u001b[0m\n\u001b[1;32m      3\u001b[0m \u001b[0;32mimport\u001b[0m \u001b[0mjoblib\u001b[0m\u001b[0;34m\u001b[0m\u001b[0;34m\u001b[0m\u001b[0m\n\u001b[1;32m      4\u001b[0m \u001b[0;34m\u001b[0m\u001b[0m\n\u001b[0;32m----> 5\u001b[0;31m \u001b[0;32mfrom\u001b[0m \u001b[0msimplet5\u001b[0m \u001b[0;32mimport\u001b[0m \u001b[0mSimpleT5\u001b[0m\u001b[0;34m\u001b[0m\u001b[0;34m\u001b[0m\u001b[0m\n\u001b[0m\u001b[1;32m      6\u001b[0m \u001b[0;32mfrom\u001b[0m \u001b[0mtqdm\u001b[0m \u001b[0;32mimport\u001b[0m \u001b[0mtqdm\u001b[0m\u001b[0;34m\u001b[0m\u001b[0;34m\u001b[0m\u001b[0m\n\u001b[1;32m      7\u001b[0m \u001b[0;32mfrom\u001b[0m \u001b[0msklearn\u001b[0m\u001b[0;34m.\u001b[0m\u001b[0mmodel_selection\u001b[0m \u001b[0;32mimport\u001b[0m \u001b[0mtrain_test_split\u001b[0m\u001b[0;34m\u001b[0m\u001b[0;34m\u001b[0m\u001b[0m\n",
      "\u001b[0;31mModuleNotFoundError\u001b[0m: No module named 'simplet5'"
     ]
    }
   ],
   "execution_count": null
  },
  {
   "cell_type": "markdown",
   "source": "## I) Load Dataset\n",
   "metadata": {
    "id": "RuhquR_iEJzM",
    "cell_id": "00003-dca2dc11-08e8-40a8-8549-cee79a7d93a9",
    "deepnote_cell_type": "markdown",
    "deepnote_cell_height": 69.921875
   }
  },
  {
   "cell_type": "code",
   "metadata": {
    "id": "EfFeZH2CDvUr",
    "cell_id": "00004-91544dac-6060-4cc3-90e7-7092de1fd8e7",
    "deepnote_cell_type": "code",
    "deepnote_cell_height": 101.9375
   },
   "source": "path = \"simpleT5_last.tsv\"\ndf = pd.read_csv(path, sep='\\t')\ndf.drop(labels=0, axis=0, inplace=True)",
   "outputs": [],
   "execution_count": null
  },
  {
   "cell_type": "code",
   "metadata": {
    "id": "ZXvedyJkDy2_",
    "cell_id": "00005-b10d6def-bc24-43a0-9f3e-053623309d69",
    "deepnote_cell_type": "code",
    "deepnote_cell_height": 137.9375
   },
   "source": "# Rename Columns\ndf.rename(columns={\"Reponse\":\"target_text\", \"Question\":\"source_text\"}, inplace=True)\n\n# Add prefix\ndf['source_text'] = \"answer_question: \" + df['source_text']",
   "outputs": [],
   "execution_count": null
  },
  {
   "cell_type": "code",
   "metadata": {
    "colab": {
     "base_uri": "https://localhost:8080/",
     "height": 302
    },
    "id": "Dk74ZOrwBFrH",
    "outputId": "0b8c08ee-0711-4162-f7b8-3dbfa6422026",
    "cell_id": "00006-8c1e65e0-6c76-46ed-95f6-28c4a480af85",
    "deepnote_cell_type": "code",
    "deepnote_cell_height": 273.734375,
    "deepnote_output_heights": [
     176.8125
    ]
   },
   "source": "df.head(5)",
   "outputs": [
    {
     "output_type": "execute_result",
     "data": {
      "text/plain": "                                         source_text  \\\n1  answer_question: Quels sont tes centres d'inte...   \n2  answer_question: Quels sont tes centres d'inte...   \n3    answer_question: Quels sont tes sujets preferes   \n4               answer_question: Quel est ton numero   \n5               answer_question: Quel est ton numero   \n\n                                         target_text  \n1  Je suis interessé par beaucoup de choses. Nous...  \n2  Je suis interessé par une grande variete de su...  \n3  Mes sujets preferes incluent la robotique, l'i...  \n4                             Je n'ai pas de numero.  \n5                 5446, c'est mon numero maintenant.  ",
      "text/html": "\n  <div id=\"df-2a25aaa4-a2af-4117-9809-a6ed46e60ba1\">\n    <div class=\"colab-df-container\">\n      <div>\n<style scoped>\n    .dataframe tbody tr th:only-of-type {\n        vertical-align: middle;\n    }\n\n    .dataframe tbody tr th {\n        vertical-align: top;\n    }\n\n    .dataframe thead th {\n        text-align: right;\n    }\n</style>\n<table border=\"1\" class=\"dataframe\">\n  <thead>\n    <tr style=\"text-align: right;\">\n      <th></th>\n      <th>source_text</th>\n      <th>target_text</th>\n    </tr>\n  </thead>\n  <tbody>\n    <tr>\n      <th>1</th>\n      <td>answer_question: Quels sont tes centres d'inte...</td>\n      <td>Je suis interessé par beaucoup de choses. Nous...</td>\n    </tr>\n    <tr>\n      <th>2</th>\n      <td>answer_question: Quels sont tes centres d'inte...</td>\n      <td>Je suis interessé par une grande variete de su...</td>\n    </tr>\n    <tr>\n      <th>3</th>\n      <td>answer_question: Quels sont tes sujets preferes</td>\n      <td>Mes sujets preferes incluent la robotique, l'i...</td>\n    </tr>\n    <tr>\n      <th>4</th>\n      <td>answer_question: Quel est ton numero</td>\n      <td>Je n'ai pas de numero.</td>\n    </tr>\n    <tr>\n      <th>5</th>\n      <td>answer_question: Quel est ton numero</td>\n      <td>5446, c'est mon numero maintenant.</td>\n    </tr>\n  </tbody>\n</table>\n</div>\n      <button class=\"colab-df-convert\" onclick=\"convertToInteractive('df-2a25aaa4-a2af-4117-9809-a6ed46e60ba1')\"\n              title=\"Convert this dataframe to an interactive table.\"\n              style=\"display:none;\">\n        \n  <svg xmlns=\"http://www.w3.org/2000/svg\" height=\"24px\"viewBox=\"0 0 24 24\"\n       width=\"24px\">\n    <path d=\"M0 0h24v24H0V0z\" fill=\"none\"/>\n    <path d=\"M18.56 5.44l.94 2.06.94-2.06 2.06-.94-2.06-.94-.94-2.06-.94 2.06-2.06.94zm-11 1L8.5 8.5l.94-2.06 2.06-.94-2.06-.94L8.5 2.5l-.94 2.06-2.06.94zm10 10l.94 2.06.94-2.06 2.06-.94-2.06-.94-.94-2.06-.94 2.06-2.06.94z\"/><path d=\"M17.41 7.96l-1.37-1.37c-.4-.4-.92-.59-1.43-.59-.52 0-1.04.2-1.43.59L10.3 9.45l-7.72 7.72c-.78.78-.78 2.05 0 2.83L4 21.41c.39.39.9.59 1.41.59.51 0 1.02-.2 1.41-.59l7.78-7.78 2.81-2.81c.8-.78.8-2.07 0-2.86zM5.41 20L4 18.59l7.72-7.72 1.47 1.35L5.41 20z\"/>\n  </svg>\n      </button>\n      \n  <style>\n    .colab-df-container {\n      display:flex;\n      flex-wrap:wrap;\n      gap: 12px;\n    }\n\n    .colab-df-convert {\n      background-color: #E8F0FE;\n      border: none;\n      border-radius: 50%;\n      cursor: pointer;\n      display: none;\n      fill: #1967D2;\n      height: 32px;\n      padding: 0 0 0 0;\n      width: 32px;\n    }\n\n    .colab-df-convert:hover {\n      background-color: #E2EBFA;\n      box-shadow: 0px 1px 2px rgba(60, 64, 67, 0.3), 0px 1px 3px 1px rgba(60, 64, 67, 0.15);\n      fill: #174EA6;\n    }\n\n    [theme=dark] .colab-df-convert {\n      background-color: #3B4455;\n      fill: #D2E3FC;\n    }\n\n    [theme=dark] .colab-df-convert:hover {\n      background-color: #434B5C;\n      box-shadow: 0px 1px 3px 1px rgba(0, 0, 0, 0.15);\n      filter: drop-shadow(0px 1px 2px rgba(0, 0, 0, 0.3));\n      fill: #FFFFFF;\n    }\n  </style>\n\n      <script>\n        const buttonEl =\n          document.querySelector('#df-2a25aaa4-a2af-4117-9809-a6ed46e60ba1 button.colab-df-convert');\n        buttonEl.style.display =\n          google.colab.kernel.accessAllowed ? 'block' : 'none';\n\n        async function convertToInteractive(key) {\n          const element = document.querySelector('#df-2a25aaa4-a2af-4117-9809-a6ed46e60ba1');\n          const dataTable =\n            await google.colab.kernel.invokeFunction('convertToInteractive',\n                                                     [key], {});\n          if (!dataTable) return;\n\n          const docLinkHtml = 'Like what you see? Visit the ' +\n            '<a target=\"_blank\" href=https://colab.research.google.com/notebooks/data_table.ipynb>data table notebook</a>'\n            + ' to learn more about interactive tables.';\n          element.innerHTML = '';\n          dataTable['output_type'] = 'display_data';\n          await google.colab.output.renderOutput(dataTable, element);\n          const docLink = document.createElement('div');\n          docLink.innerHTML = docLinkHtml;\n          element.appendChild(docLink);\n        }\n      </script>\n    </div>\n  </div>\n  "
     },
     "metadata": {},
     "execution_count": 4
    }
   ],
   "execution_count": null
  },
  {
   "cell_type": "markdown",
   "source": "## II) Split into train and test set",
   "metadata": {
    "id": "roHBxgX9EBxZ",
    "cell_id": "00007-d0d02004-61a0-44b1-be2a-44c107a3a770",
    "deepnote_cell_type": "markdown",
    "deepnote_cell_height": 69.921875
   }
  },
  {
   "cell_type": "markdown",
   "source": "L'idée: on split comme on a l'habitude de faire, puis on retire du training set les questions qui figurent dans le test set pour les rajouter à ce dernier.",
   "metadata": {
    "id": "Pdm2ty5SZP1q",
    "cell_id": "00008-113f6360-cce1-4a83-bb3f-7692330537c5",
    "deepnote_cell_type": "markdown",
    "deepnote_cell_height": 74.734375
   }
  },
  {
   "cell_type": "code",
   "metadata": {
    "colab": {
     "base_uri": "https://localhost:8080/"
    },
    "id": "myWWFpGQCstX",
    "outputId": "69af0eea-b709-4ac5-8331-6ab28db5e6b8",
    "cell_id": "00009-126f81bf-c52f-45f7-9ed2-e8c3d6c4bcff",
    "deepnote_cell_type": "code",
    "deepnote_cell_height": 136.09375,
    "deepnote_output_heights": [
     21.1875
    ]
   },
   "source": "train_df, test_df = train_test_split(df, shuffle=True, test_size=0.02, random_state=21)\ntrain_df.shape, test_df.shape",
   "outputs": [
    {
     "output_type": "execute_result",
     "data": {
      "text/plain": "((35435, 2), (724, 2))"
     },
     "metadata": {},
     "execution_count": 5
    }
   ],
   "execution_count": null
  },
  {
   "cell_type": "markdown",
   "source": "We remove the questions from the training set that we already have in the test set.",
   "metadata": {
    "id": "XCPVf9nVEYpO",
    "cell_id": "00010-27468d25-ffcf-4e59-9256-01e3efcd058a",
    "deepnote_cell_type": "markdown",
    "deepnote_cell_height": 52.328125
   }
  },
  {
   "cell_type": "code",
   "metadata": {
    "colab": {
     "base_uri": "https://localhost:8080/"
    },
    "id": "h1T3iXjEC4Ym",
    "outputId": "9a2e124c-48e8-4f1e-af9d-ee311a186bae",
    "cell_id": "00011-4c3ea652-bded-4f7e-91d3-59a41ab3404c",
    "deepnote_cell_type": "code",
    "deepnote_cell_height": 190.09375,
    "deepnote_output_heights": [
     21.1875
    ]
   },
   "source": "# Get names of indexes for which the question is the same in the training set as in the test set\nindexNames = train_df[ train_df['source_text'].isin(list(test_df['source_text']) )].index\n\nrows_to_remove = train_df.loc[indexNames]\nrows_to_remove.shape",
   "outputs": [
    {
     "output_type": "execute_result",
     "data": {
      "text/plain": "(373, 2)"
     },
     "metadata": {},
     "execution_count": 6
    }
   ],
   "execution_count": null
  },
  {
   "cell_type": "code",
   "metadata": {
    "colab": {
     "base_uri": "https://localhost:8080/"
    },
    "id": "XxqKPr3bDT_f",
    "outputId": "629f534d-0380-44c6-f224-3019f1333bb4",
    "cell_id": "00012-3c928b5b-a637-4b50-9289-3f0e48ff9689",
    "deepnote_cell_type": "code",
    "deepnote_cell_height": 172.09375,
    "deepnote_output_heights": [
     21.1875
    ]
   },
   "source": "# Delete these row indexes from dataFrame\ntrain_df.drop(indexNames , inplace=True)\n# The size of the training set goes down a bit\ntrain_df.shape, test_df.shape",
   "outputs": [
    {
     "output_type": "execute_result",
     "data": {
      "text/plain": "((35062, 2), (724, 2))"
     },
     "metadata": {},
     "execution_count": 7
    }
   ],
   "execution_count": null
  },
  {
   "cell_type": "code",
   "metadata": {
    "colab": {
     "base_uri": "https://localhost:8080/"
    },
    "id": "cQktVQ4lIy-j",
    "outputId": "ef6020db-2d0e-48df-b936-68ae41df3510",
    "cell_id": "00013-2084b1a2-844f-497a-9419-eca2fb4eafa3",
    "deepnote_cell_type": "code",
    "deepnote_cell_height": 154.09375,
    "deepnote_output_heights": [
     21.1875
    ]
   },
   "source": "# On peut concatener les Q/A retirées du train au test set\ntest_df_new = pd.concat([test_df, rows_to_remove], axis=0)\ntest_df_new.shape",
   "outputs": [
    {
     "output_type": "execute_result",
     "data": {
      "text/plain": "(1097, 2)"
     },
     "metadata": {},
     "execution_count": 8
    }
   ],
   "execution_count": null
  },
  {
   "cell_type": "code",
   "metadata": {
    "colab": {
     "base_uri": "https://localhost:8080/",
     "height": 337
    },
    "id": "UWs19dM5Kmh8",
    "outputId": "f8c494db-6033-4099-9f1b-6c013709d836",
    "cell_id": "00014-82ad90ec-01d7-42d9-9dfa-660b48651dae",
    "deepnote_cell_type": "code",
    "deepnote_cell_height": 273.734375,
    "deepnote_output_heights": [
     176.8125
    ]
   },
   "source": "test_df_new.head(5)",
   "outputs": [
    {
     "output_type": "execute_result",
     "data": {
      "text/plain": "                                             source_text  \\\n22732  answer_question: C'est bon, la période d'adapt...   \n36113  answer_question: Je ne suis pas sûre, c'était ...   \n17072  answer_question: Une fois, quand j'étais au ja...   \n29487  answer_question: Les dents de sagesse sont ret...   \n33595  answer_question: Nous avons dû quitter la mais...   \n\n                                             target_text  \n22732  Oui, j'ai été dans cette situation. Reste posi...  \n36113  Cool, je les aime bien, mais elles sont follem...  \n17072                     Oh non ! Tu as eu des ennuis ?  \n29487               Ouille, gargarise-toi avec du whisky  \n33595  L'ouragan Matthew est aussi passé par là où je...  ",
      "text/html": "\n  <div id=\"df-080d20cf-3fdb-4728-b1e5-f4c969f182a2\">\n    <div class=\"colab-df-container\">\n      <div>\n<style scoped>\n    .dataframe tbody tr th:only-of-type {\n        vertical-align: middle;\n    }\n\n    .dataframe tbody tr th {\n        vertical-align: top;\n    }\n\n    .dataframe thead th {\n        text-align: right;\n    }\n</style>\n<table border=\"1\" class=\"dataframe\">\n  <thead>\n    <tr style=\"text-align: right;\">\n      <th></th>\n      <th>source_text</th>\n      <th>target_text</th>\n    </tr>\n  </thead>\n  <tbody>\n    <tr>\n      <th>22732</th>\n      <td>answer_question: C'est bon, la période d'adapt...</td>\n      <td>Oui, j'ai été dans cette situation. Reste posi...</td>\n    </tr>\n    <tr>\n      <th>36113</th>\n      <td>answer_question: Je ne suis pas sûre, c'était ...</td>\n      <td>Cool, je les aime bien, mais elles sont follem...</td>\n    </tr>\n    <tr>\n      <th>17072</th>\n      <td>answer_question: Une fois, quand j'étais au ja...</td>\n      <td>Oh non ! Tu as eu des ennuis ?</td>\n    </tr>\n    <tr>\n      <th>29487</th>\n      <td>answer_question: Les dents de sagesse sont ret...</td>\n      <td>Ouille, gargarise-toi avec du whisky</td>\n    </tr>\n    <tr>\n      <th>33595</th>\n      <td>answer_question: Nous avons dû quitter la mais...</td>\n      <td>L'ouragan Matthew est aussi passé par là où je...</td>\n    </tr>\n  </tbody>\n</table>\n</div>\n      <button class=\"colab-df-convert\" onclick=\"convertToInteractive('df-080d20cf-3fdb-4728-b1e5-f4c969f182a2')\"\n              title=\"Convert this dataframe to an interactive table.\"\n              style=\"display:none;\">\n        \n  <svg xmlns=\"http://www.w3.org/2000/svg\" height=\"24px\"viewBox=\"0 0 24 24\"\n       width=\"24px\">\n    <path d=\"M0 0h24v24H0V0z\" fill=\"none\"/>\n    <path d=\"M18.56 5.44l.94 2.06.94-2.06 2.06-.94-2.06-.94-.94-2.06-.94 2.06-2.06.94zm-11 1L8.5 8.5l.94-2.06 2.06-.94-2.06-.94L8.5 2.5l-.94 2.06-2.06.94zm10 10l.94 2.06.94-2.06 2.06-.94-2.06-.94-.94-2.06-.94 2.06-2.06.94z\"/><path d=\"M17.41 7.96l-1.37-1.37c-.4-.4-.92-.59-1.43-.59-.52 0-1.04.2-1.43.59L10.3 9.45l-7.72 7.72c-.78.78-.78 2.05 0 2.83L4 21.41c.39.39.9.59 1.41.59.51 0 1.02-.2 1.41-.59l7.78-7.78 2.81-2.81c.8-.78.8-2.07 0-2.86zM5.41 20L4 18.59l7.72-7.72 1.47 1.35L5.41 20z\"/>\n  </svg>\n      </button>\n      \n  <style>\n    .colab-df-container {\n      display:flex;\n      flex-wrap:wrap;\n      gap: 12px;\n    }\n\n    .colab-df-convert {\n      background-color: #E8F0FE;\n      border: none;\n      border-radius: 50%;\n      cursor: pointer;\n      display: none;\n      fill: #1967D2;\n      height: 32px;\n      padding: 0 0 0 0;\n      width: 32px;\n    }\n\n    .colab-df-convert:hover {\n      background-color: #E2EBFA;\n      box-shadow: 0px 1px 2px rgba(60, 64, 67, 0.3), 0px 1px 3px 1px rgba(60, 64, 67, 0.15);\n      fill: #174EA6;\n    }\n\n    [theme=dark] .colab-df-convert {\n      background-color: #3B4455;\n      fill: #D2E3FC;\n    }\n\n    [theme=dark] .colab-df-convert:hover {\n      background-color: #434B5C;\n      box-shadow: 0px 1px 3px 1px rgba(0, 0, 0, 0.15);\n      filter: drop-shadow(0px 1px 2px rgba(0, 0, 0, 0.3));\n      fill: #FFFFFF;\n    }\n  </style>\n\n      <script>\n        const buttonEl =\n          document.querySelector('#df-080d20cf-3fdb-4728-b1e5-f4c969f182a2 button.colab-df-convert');\n        buttonEl.style.display =\n          google.colab.kernel.accessAllowed ? 'block' : 'none';\n\n        async function convertToInteractive(key) {\n          const element = document.querySelector('#df-080d20cf-3fdb-4728-b1e5-f4c969f182a2');\n          const dataTable =\n            await google.colab.kernel.invokeFunction('convertToInteractive',\n                                                     [key], {});\n          if (!dataTable) return;\n\n          const docLinkHtml = 'Like what you see? Visit the ' +\n            '<a target=\"_blank\" href=https://colab.research.google.com/notebooks/data_table.ipynb>data table notebook</a>'\n            + ' to learn more about interactive tables.';\n          element.innerHTML = '';\n          dataTable['output_type'] = 'display_data';\n          await google.colab.output.renderOutput(dataTable, element);\n          const docLink = document.createElement('div');\n          docLink.innerHTML = docLinkHtml;\n          element.appendChild(docLink);\n        }\n      </script>\n    </div>\n  </div>\n  "
     },
     "metadata": {},
     "execution_count": 9
    }
   ],
   "execution_count": null
  },
  {
   "cell_type": "code",
   "metadata": {
    "colab": {
     "base_uri": "https://localhost:8080/"
    },
    "id": "ESuHHfeELeyn",
    "outputId": "c2a383ad-e75f-4b81-e542-979132e4b7ec",
    "cell_id": "00015-ed2934da-225d-44c8-ac46-bf1daefe5a26",
    "deepnote_cell_type": "code",
    "deepnote_cell_height": 172.09375,
    "deepnote_output_heights": [
     21.1875
    ]
   },
   "source": "questions_test = list(test_df_new['source_text'])\nanswers_test = list(test_df_new['target_text'])\n\nlen(answers_test), len(questions_test) ",
   "outputs": [
    {
     "output_type": "execute_result",
     "data": {
      "text/plain": "(1097, 1097)"
     },
     "metadata": {},
     "execution_count": 43
    }
   ],
   "execution_count": null
  },
  {
   "cell_type": "markdown",
   "source": "## III) Load model and test with BLEU score",
   "metadata": {
    "id": "G7xi3dV0aBJC",
    "cell_id": "00016-46135e44-e28c-4f22-9f7c-454a42e516cd",
    "deepnote_cell_type": "markdown",
    "deepnote_cell_height": 69.921875
   }
  },
  {
   "cell_type": "code",
   "metadata": {
    "id": "pFgHTDy5Ohlq",
    "cell_id": "00017-e2baf8c4-c338-4029-9840-c666f0539488",
    "deepnote_cell_type": "code",
    "deepnote_cell_height": 137.9375
   },
   "source": "# Load le model\nmodel = SimpleT5()\nmodelPATH = \"drive/MyDrive/TER/ml/models/SimpleT5.joblib\"\n\nmodel = joblib.load(modelPATH)",
   "outputs": [],
   "execution_count": null
  },
  {
   "cell_type": "code",
   "metadata": {
    "colab": {
     "base_uri": "https://localhost:8080/"
    },
    "id": "6tKO1aB2OirI",
    "outputId": "37ecc514-2d5c-44fe-9d2f-a6fe7ac1fd48",
    "cell_id": "00018-b6f78a4f-ffc4-4686-ab45-9b64e48d09c4",
    "deepnote_cell_type": "code",
    "deepnote_cell_height": 523.65625
   },
   "source": "# Compute score\nscore = 0\nfor i, qst in tqdm(enumerate(questions_test)):\n  answer_chatbot = model.predict(qst, num_return_sequences=10, num_beams=10)\n  answer_chatbot_splitted = [answer.split() for answer in answer_chatbot]\n  real_answer_splitted = answers_test[i].split()\n  score += sentence_bleu(answer_chatbot_splitted, real_answer_splitted)\nscore/= len(questions_test)\nprint(f'Le score est de {score}')",
   "outputs": [
    {
     "output_type": "stream",
     "name": "stderr",
     "text": "/usr/local/lib/python3.7/dist-packages/nltk/translate/bleu_score.py:490: UserWarning: \nCorpus/Sentence contains 0 counts of 2-gram overlaps.\nBLEU scores might be undesirable; use SmoothingFunction().\n  warnings.warn(_msg)\n/usr/local/lib/python3.7/dist-packages/nltk/translate/bleu_score.py:490: UserWarning: \nCorpus/Sentence contains 0 counts of 4-gram overlaps.\nBLEU scores might be undesirable; use SmoothingFunction().\n  warnings.warn(_msg)\n/usr/local/lib/python3.7/dist-packages/nltk/translate/bleu_score.py:490: UserWarning: \nCorpus/Sentence contains 0 counts of 3-gram overlaps.\nBLEU scores might be undesirable; use SmoothingFunction().\n  warnings.warn(_msg)\n"
    },
    {
     "output_type": "stream",
     "name": "stdout",
     "text": "Le score est de 0.6297767901291315\n"
    }
   ],
   "execution_count": null
  },
  {
   "cell_type": "code",
   "metadata": {
    "colab": {
     "base_uri": "https://localhost:8080/"
    },
    "id": "65G90MgfPw7E",
    "outputId": "574d552d-ea75-4d7d-94ce-15906753d62a",
    "cell_id": "00019-9700753f-d876-40db-97ca-94f0e12544b9",
    "deepnote_cell_type": "code",
    "deepnote_cell_height": 112.046875
   },
   "source": "print(f'Le score est de {score}')",
   "outputs": [
    {
     "output_type": "stream",
     "name": "stdout",
     "text": "Le score est de 0.6297767901291315\n"
    }
   ],
   "execution_count": null
  },
  {
   "cell_type": "code",
   "metadata": {
    "id": "s5j_NojnSSpb",
    "cell_id": "00020-ca6a5680-4574-4ba0-b400-ff2742b98d99",
    "deepnote_cell_type": "code",
    "deepnote_cell_height": 155.9375
   },
   "source": "# Je laisse ça là au cas ou on en aurait besoin \n\n# grouped_by_questions = result.groupby('source_text')['target_text'].apply(list)\n# questions_test = list(grouped_by_questions.index)\n# answers_test = list(grouped_by_questions)\n# len(answers_test), len(questions_test) ",
   "execution_count": null,
   "outputs": []
  },
  {
   "cell_type": "markdown",
   "source": "<a style='text-decoration:none;line-height:16px;display:flex;color:#5B5B62;padding:10px;justify-content:end;' href='https://deepnote.com?utm_source=created-in-deepnote-cell&projectId=e5c503ea-724e-4975-85d2-1122520b6aaa' target=\"_blank\">\n<img alt='Created in deepnote.com' style='display:inline;max-height:16px;margin:0px;margin-right:7.5px;' src='data:image/svg+xml;base64,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' > </img>\nCreated in <span style='font-weight:600;margin-left:4px;'>Deepnote</span></a>",
   "metadata": {
    "tags": [],
    "created_in_deepnote_cell": true,
    "deepnote_cell_type": "markdown"
   }
  }
 ],
 "nbformat": 4,
 "nbformat_minor": 0,
 "metadata": {
  "colab": {
   "name": "Tests_for_evaluation.ipynb",
   "provenance": [],
   "collapsed_sections": []
  },
  "kernelspec": {
   "name": "python3",
   "display_name": "Python 3"
  },
  "language_info": {
   "name": "python"
  },
  "deepnote_notebook_id": "b8616284-5090-42bd-af2b-eaddd5e6f6c4",
  "deepnote": {},
  "deepnote_execution_queue": []
 }
}