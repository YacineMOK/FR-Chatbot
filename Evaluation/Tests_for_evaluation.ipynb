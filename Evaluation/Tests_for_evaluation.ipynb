{
  "nbformat": 4,
  "nbformat_minor": 0,
  "metadata": {
    "colab": {
      "name": "Tests_for_evaluation.ipynb",
      "provenance": [],
      "collapsed_sections": []
    },
    "kernelspec": {
      "name": "python3",
      "display_name": "Python 3"
    },
    "language_info": {
      "name": "python"
    }
  },
  "cells": [
    {
      "cell_type": "markdown",
      "source": [
        "## ⚠ Remarque: ⚠ \n",
        "C'est juste un notebook draft pour tester split en train et test & l'évaluation sur BLEU score.\n",
        "\n",
        "--- > Il faudrait split le train et le test comme fait ici, save le test set de coté. Entrainer le model avec le training set. Puis évaluer sur le test set. \n",
        "\n",
        "Là je teste sur un model déjà save qui s'est entrainé sur tout le set de départ (train + test) donc c'est à ne pas prendre en compte !"
      ],
      "metadata": {
        "id": "PhVlHfDIXIbe"
      }
    },
    {
      "cell_type": "code",
      "source": [
        "# !pip install simplet5"
      ],
      "metadata": {
        "id": "Ohn7nh5dPrfP"
      },
      "execution_count": null,
      "outputs": []
    },
    {
      "cell_type": "code",
      "execution_count": 49,
      "metadata": {
        "id": "yb9FU0kgv5TM"
      },
      "outputs": [],
      "source": [
        "import numpy as np\n",
        "import pandas as pd\n",
        "import joblib\n",
        "\n",
        "from simplet5 import SimpleT5\n",
        "from tqdm import tqdm\n",
        "from sklearn.model_selection import train_test_split\n",
        "from nltk.translate.bleu_score import sentence_bleu"
      ]
    },
    {
      "cell_type": "markdown",
      "source": [
        "## I) Load Dataset\n"
      ],
      "metadata": {
        "id": "RuhquR_iEJzM"
      }
    },
    {
      "cell_type": "code",
      "source": [
        "path = \"simpleT5_last.tsv\"\n",
        "df = pd.read_csv(path, sep='\\t')\n",
        "df.drop(labels=0, axis=0, inplace=True)"
      ],
      "metadata": {
        "id": "EfFeZH2CDvUr"
      },
      "execution_count": 2,
      "outputs": []
    },
    {
      "cell_type": "code",
      "source": [
        "# Rename Columns\n",
        "df.rename(columns={\"Reponse\":\"target_text\", \"Question\":\"source_text\"}, inplace=True)\n",
        "\n",
        "# Add prefix\n",
        "df['source_text'] = \"answer_question: \" + df['source_text']"
      ],
      "metadata": {
        "id": "ZXvedyJkDy2_"
      },
      "execution_count": 3,
      "outputs": []
    },
    {
      "cell_type": "code",
      "source": [
        "df.head(5)"
      ],
      "metadata": {
        "colab": {
          "base_uri": "https://localhost:8080/",
          "height": 302
        },
        "id": "Dk74ZOrwBFrH",
        "outputId": "0b8c08ee-0711-4162-f7b8-3dbfa6422026"
      },
      "execution_count": 4,
      "outputs": [
        {
          "output_type": "execute_result",
          "data": {
            "text/plain": [
              "                                         source_text  \\\n",
              "1  answer_question: Quels sont tes centres d'inte...   \n",
              "2  answer_question: Quels sont tes centres d'inte...   \n",
              "3    answer_question: Quels sont tes sujets preferes   \n",
              "4               answer_question: Quel est ton numero   \n",
              "5               answer_question: Quel est ton numero   \n",
              "\n",
              "                                         target_text  \n",
              "1  Je suis interessé par beaucoup de choses. Nous...  \n",
              "2  Je suis interessé par une grande variete de su...  \n",
              "3  Mes sujets preferes incluent la robotique, l'i...  \n",
              "4                             Je n'ai pas de numero.  \n",
              "5                 5446, c'est mon numero maintenant.  "
            ],
            "text/html": [
              "\n",
              "  <div id=\"df-2a25aaa4-a2af-4117-9809-a6ed46e60ba1\">\n",
              "    <div class=\"colab-df-container\">\n",
              "      <div>\n",
              "<style scoped>\n",
              "    .dataframe tbody tr th:only-of-type {\n",
              "        vertical-align: middle;\n",
              "    }\n",
              "\n",
              "    .dataframe tbody tr th {\n",
              "        vertical-align: top;\n",
              "    }\n",
              "\n",
              "    .dataframe thead th {\n",
              "        text-align: right;\n",
              "    }\n",
              "</style>\n",
              "<table border=\"1\" class=\"dataframe\">\n",
              "  <thead>\n",
              "    <tr style=\"text-align: right;\">\n",
              "      <th></th>\n",
              "      <th>source_text</th>\n",
              "      <th>target_text</th>\n",
              "    </tr>\n",
              "  </thead>\n",
              "  <tbody>\n",
              "    <tr>\n",
              "      <th>1</th>\n",
              "      <td>answer_question: Quels sont tes centres d'inte...</td>\n",
              "      <td>Je suis interessé par beaucoup de choses. Nous...</td>\n",
              "    </tr>\n",
              "    <tr>\n",
              "      <th>2</th>\n",
              "      <td>answer_question: Quels sont tes centres d'inte...</td>\n",
              "      <td>Je suis interessé par une grande variete de su...</td>\n",
              "    </tr>\n",
              "    <tr>\n",
              "      <th>3</th>\n",
              "      <td>answer_question: Quels sont tes sujets preferes</td>\n",
              "      <td>Mes sujets preferes incluent la robotique, l'i...</td>\n",
              "    </tr>\n",
              "    <tr>\n",
              "      <th>4</th>\n",
              "      <td>answer_question: Quel est ton numero</td>\n",
              "      <td>Je n'ai pas de numero.</td>\n",
              "    </tr>\n",
              "    <tr>\n",
              "      <th>5</th>\n",
              "      <td>answer_question: Quel est ton numero</td>\n",
              "      <td>5446, c'est mon numero maintenant.</td>\n",
              "    </tr>\n",
              "  </tbody>\n",
              "</table>\n",
              "</div>\n",
              "      <button class=\"colab-df-convert\" onclick=\"convertToInteractive('df-2a25aaa4-a2af-4117-9809-a6ed46e60ba1')\"\n",
              "              title=\"Convert this dataframe to an interactive table.\"\n",
              "              style=\"display:none;\">\n",
              "        \n",
              "  <svg xmlns=\"http://www.w3.org/2000/svg\" height=\"24px\"viewBox=\"0 0 24 24\"\n",
              "       width=\"24px\">\n",
              "    <path d=\"M0 0h24v24H0V0z\" fill=\"none\"/>\n",
              "    <path d=\"M18.56 5.44l.94 2.06.94-2.06 2.06-.94-2.06-.94-.94-2.06-.94 2.06-2.06.94zm-11 1L8.5 8.5l.94-2.06 2.06-.94-2.06-.94L8.5 2.5l-.94 2.06-2.06.94zm10 10l.94 2.06.94-2.06 2.06-.94-2.06-.94-.94-2.06-.94 2.06-2.06.94z\"/><path d=\"M17.41 7.96l-1.37-1.37c-.4-.4-.92-.59-1.43-.59-.52 0-1.04.2-1.43.59L10.3 9.45l-7.72 7.72c-.78.78-.78 2.05 0 2.83L4 21.41c.39.39.9.59 1.41.59.51 0 1.02-.2 1.41-.59l7.78-7.78 2.81-2.81c.8-.78.8-2.07 0-2.86zM5.41 20L4 18.59l7.72-7.72 1.47 1.35L5.41 20z\"/>\n",
              "  </svg>\n",
              "      </button>\n",
              "      \n",
              "  <style>\n",
              "    .colab-df-container {\n",
              "      display:flex;\n",
              "      flex-wrap:wrap;\n",
              "      gap: 12px;\n",
              "    }\n",
              "\n",
              "    .colab-df-convert {\n",
              "      background-color: #E8F0FE;\n",
              "      border: none;\n",
              "      border-radius: 50%;\n",
              "      cursor: pointer;\n",
              "      display: none;\n",
              "      fill: #1967D2;\n",
              "      height: 32px;\n",
              "      padding: 0 0 0 0;\n",
              "      width: 32px;\n",
              "    }\n",
              "\n",
              "    .colab-df-convert:hover {\n",
              "      background-color: #E2EBFA;\n",
              "      box-shadow: 0px 1px 2px rgba(60, 64, 67, 0.3), 0px 1px 3px 1px rgba(60, 64, 67, 0.15);\n",
              "      fill: #174EA6;\n",
              "    }\n",
              "\n",
              "    [theme=dark] .colab-df-convert {\n",
              "      background-color: #3B4455;\n",
              "      fill: #D2E3FC;\n",
              "    }\n",
              "\n",
              "    [theme=dark] .colab-df-convert:hover {\n",
              "      background-color: #434B5C;\n",
              "      box-shadow: 0px 1px 3px 1px rgba(0, 0, 0, 0.15);\n",
              "      filter: drop-shadow(0px 1px 2px rgba(0, 0, 0, 0.3));\n",
              "      fill: #FFFFFF;\n",
              "    }\n",
              "  </style>\n",
              "\n",
              "      <script>\n",
              "        const buttonEl =\n",
              "          document.querySelector('#df-2a25aaa4-a2af-4117-9809-a6ed46e60ba1 button.colab-df-convert');\n",
              "        buttonEl.style.display =\n",
              "          google.colab.kernel.accessAllowed ? 'block' : 'none';\n",
              "\n",
              "        async function convertToInteractive(key) {\n",
              "          const element = document.querySelector('#df-2a25aaa4-a2af-4117-9809-a6ed46e60ba1');\n",
              "          const dataTable =\n",
              "            await google.colab.kernel.invokeFunction('convertToInteractive',\n",
              "                                                     [key], {});\n",
              "          if (!dataTable) return;\n",
              "\n",
              "          const docLinkHtml = 'Like what you see? Visit the ' +\n",
              "            '<a target=\"_blank\" href=https://colab.research.google.com/notebooks/data_table.ipynb>data table notebook</a>'\n",
              "            + ' to learn more about interactive tables.';\n",
              "          element.innerHTML = '';\n",
              "          dataTable['output_type'] = 'display_data';\n",
              "          await google.colab.output.renderOutput(dataTable, element);\n",
              "          const docLink = document.createElement('div');\n",
              "          docLink.innerHTML = docLinkHtml;\n",
              "          element.appendChild(docLink);\n",
              "        }\n",
              "      </script>\n",
              "    </div>\n",
              "  </div>\n",
              "  "
            ]
          },
          "metadata": {},
          "execution_count": 4
        }
      ]
    },
    {
      "cell_type": "markdown",
      "source": [
        "## II) Split into train and test set"
      ],
      "metadata": {
        "id": "roHBxgX9EBxZ"
      }
    },
    {
      "cell_type": "markdown",
      "source": [
        "L'idée: on split comme on a l'habitude de faire, puis on retire du training set les questions qui figurent dans le test set pour les rajouter à ce dernier."
      ],
      "metadata": {
        "id": "Pdm2ty5SZP1q"
      }
    },
    {
      "cell_type": "code",
      "source": [
        "train_df, test_df = train_test_split(df, shuffle=True, test_size=0.02, random_state=21)\n",
        "train_df.shape, test_df.shape"
      ],
      "metadata": {
        "colab": {
          "base_uri": "https://localhost:8080/"
        },
        "id": "myWWFpGQCstX",
        "outputId": "69af0eea-b709-4ac5-8331-6ab28db5e6b8"
      },
      "execution_count": 5,
      "outputs": [
        {
          "output_type": "execute_result",
          "data": {
            "text/plain": [
              "((35435, 2), (724, 2))"
            ]
          },
          "metadata": {},
          "execution_count": 5
        }
      ]
    },
    {
      "cell_type": "markdown",
      "source": [
        "We remove the questions from the training set that we already have in the test set."
      ],
      "metadata": {
        "id": "XCPVf9nVEYpO"
      }
    },
    {
      "cell_type": "code",
      "source": [
        "# Get names of indexes for which the question is the same in the training set as in the test set\n",
        "indexNames = train_df[ train_df['source_text'].isin(list(test_df['source_text']) )].index\n",
        "\n",
        "rows_to_remove = train_df.loc[indexNames]\n",
        "rows_to_remove.shape"
      ],
      "metadata": {
        "colab": {
          "base_uri": "https://localhost:8080/"
        },
        "id": "h1T3iXjEC4Ym",
        "outputId": "9a2e124c-48e8-4f1e-af9d-ee311a186bae"
      },
      "execution_count": 6,
      "outputs": [
        {
          "output_type": "execute_result",
          "data": {
            "text/plain": [
              "(373, 2)"
            ]
          },
          "metadata": {},
          "execution_count": 6
        }
      ]
    },
    {
      "cell_type": "code",
      "source": [
        "# Delete these row indexes from dataFrame\n",
        "train_df.drop(indexNames , inplace=True)\n",
        "# The size of the training set goes down a bit\n",
        "train_df.shape, test_df.shape"
      ],
      "metadata": {
        "colab": {
          "base_uri": "https://localhost:8080/"
        },
        "id": "XxqKPr3bDT_f",
        "outputId": "629f534d-0380-44c6-f224-3019f1333bb4"
      },
      "execution_count": 7,
      "outputs": [
        {
          "output_type": "execute_result",
          "data": {
            "text/plain": [
              "((35062, 2), (724, 2))"
            ]
          },
          "metadata": {},
          "execution_count": 7
        }
      ]
    },
    {
      "cell_type": "code",
      "source": [
        "# On peut concatener les Q/A retirées du train au test set\n",
        "test_df_new = pd.concat([test_df, rows_to_remove], axis=0)\n",
        "test_df_new.shape"
      ],
      "metadata": {
        "colab": {
          "base_uri": "https://localhost:8080/"
        },
        "id": "cQktVQ4lIy-j",
        "outputId": "ef6020db-2d0e-48df-b936-68ae41df3510"
      },
      "execution_count": 8,
      "outputs": [
        {
          "output_type": "execute_result",
          "data": {
            "text/plain": [
              "(1097, 2)"
            ]
          },
          "metadata": {},
          "execution_count": 8
        }
      ]
    },
    {
      "cell_type": "code",
      "source": [
        "test_df_new.head(5)"
      ],
      "metadata": {
        "colab": {
          "base_uri": "https://localhost:8080/",
          "height": 337
        },
        "id": "UWs19dM5Kmh8",
        "outputId": "f8c494db-6033-4099-9f1b-6c013709d836"
      },
      "execution_count": 9,
      "outputs": [
        {
          "output_type": "execute_result",
          "data": {
            "text/plain": [
              "                                             source_text  \\\n",
              "22732  answer_question: C'est bon, la période d'adapt...   \n",
              "36113  answer_question: Je ne suis pas sûre, c'était ...   \n",
              "17072  answer_question: Une fois, quand j'étais au ja...   \n",
              "29487  answer_question: Les dents de sagesse sont ret...   \n",
              "33595  answer_question: Nous avons dû quitter la mais...   \n",
              "\n",
              "                                             target_text  \n",
              "22732  Oui, j'ai été dans cette situation. Reste posi...  \n",
              "36113  Cool, je les aime bien, mais elles sont follem...  \n",
              "17072                     Oh non ! Tu as eu des ennuis ?  \n",
              "29487               Ouille, gargarise-toi avec du whisky  \n",
              "33595  L'ouragan Matthew est aussi passé par là où je...  "
            ],
            "text/html": [
              "\n",
              "  <div id=\"df-080d20cf-3fdb-4728-b1e5-f4c969f182a2\">\n",
              "    <div class=\"colab-df-container\">\n",
              "      <div>\n",
              "<style scoped>\n",
              "    .dataframe tbody tr th:only-of-type {\n",
              "        vertical-align: middle;\n",
              "    }\n",
              "\n",
              "    .dataframe tbody tr th {\n",
              "        vertical-align: top;\n",
              "    }\n",
              "\n",
              "    .dataframe thead th {\n",
              "        text-align: right;\n",
              "    }\n",
              "</style>\n",
              "<table border=\"1\" class=\"dataframe\">\n",
              "  <thead>\n",
              "    <tr style=\"text-align: right;\">\n",
              "      <th></th>\n",
              "      <th>source_text</th>\n",
              "      <th>target_text</th>\n",
              "    </tr>\n",
              "  </thead>\n",
              "  <tbody>\n",
              "    <tr>\n",
              "      <th>22732</th>\n",
              "      <td>answer_question: C'est bon, la période d'adapt...</td>\n",
              "      <td>Oui, j'ai été dans cette situation. Reste posi...</td>\n",
              "    </tr>\n",
              "    <tr>\n",
              "      <th>36113</th>\n",
              "      <td>answer_question: Je ne suis pas sûre, c'était ...</td>\n",
              "      <td>Cool, je les aime bien, mais elles sont follem...</td>\n",
              "    </tr>\n",
              "    <tr>\n",
              "      <th>17072</th>\n",
              "      <td>answer_question: Une fois, quand j'étais au ja...</td>\n",
              "      <td>Oh non ! Tu as eu des ennuis ?</td>\n",
              "    </tr>\n",
              "    <tr>\n",
              "      <th>29487</th>\n",
              "      <td>answer_question: Les dents de sagesse sont ret...</td>\n",
              "      <td>Ouille, gargarise-toi avec du whisky</td>\n",
              "    </tr>\n",
              "    <tr>\n",
              "      <th>33595</th>\n",
              "      <td>answer_question: Nous avons dû quitter la mais...</td>\n",
              "      <td>L'ouragan Matthew est aussi passé par là où je...</td>\n",
              "    </tr>\n",
              "  </tbody>\n",
              "</table>\n",
              "</div>\n",
              "      <button class=\"colab-df-convert\" onclick=\"convertToInteractive('df-080d20cf-3fdb-4728-b1e5-f4c969f182a2')\"\n",
              "              title=\"Convert this dataframe to an interactive table.\"\n",
              "              style=\"display:none;\">\n",
              "        \n",
              "  <svg xmlns=\"http://www.w3.org/2000/svg\" height=\"24px\"viewBox=\"0 0 24 24\"\n",
              "       width=\"24px\">\n",
              "    <path d=\"M0 0h24v24H0V0z\" fill=\"none\"/>\n",
              "    <path d=\"M18.56 5.44l.94 2.06.94-2.06 2.06-.94-2.06-.94-.94-2.06-.94 2.06-2.06.94zm-11 1L8.5 8.5l.94-2.06 2.06-.94-2.06-.94L8.5 2.5l-.94 2.06-2.06.94zm10 10l.94 2.06.94-2.06 2.06-.94-2.06-.94-.94-2.06-.94 2.06-2.06.94z\"/><path d=\"M17.41 7.96l-1.37-1.37c-.4-.4-.92-.59-1.43-.59-.52 0-1.04.2-1.43.59L10.3 9.45l-7.72 7.72c-.78.78-.78 2.05 0 2.83L4 21.41c.39.39.9.59 1.41.59.51 0 1.02-.2 1.41-.59l7.78-7.78 2.81-2.81c.8-.78.8-2.07 0-2.86zM5.41 20L4 18.59l7.72-7.72 1.47 1.35L5.41 20z\"/>\n",
              "  </svg>\n",
              "      </button>\n",
              "      \n",
              "  <style>\n",
              "    .colab-df-container {\n",
              "      display:flex;\n",
              "      flex-wrap:wrap;\n",
              "      gap: 12px;\n",
              "    }\n",
              "\n",
              "    .colab-df-convert {\n",
              "      background-color: #E8F0FE;\n",
              "      border: none;\n",
              "      border-radius: 50%;\n",
              "      cursor: pointer;\n",
              "      display: none;\n",
              "      fill: #1967D2;\n",
              "      height: 32px;\n",
              "      padding: 0 0 0 0;\n",
              "      width: 32px;\n",
              "    }\n",
              "\n",
              "    .colab-df-convert:hover {\n",
              "      background-color: #E2EBFA;\n",
              "      box-shadow: 0px 1px 2px rgba(60, 64, 67, 0.3), 0px 1px 3px 1px rgba(60, 64, 67, 0.15);\n",
              "      fill: #174EA6;\n",
              "    }\n",
              "\n",
              "    [theme=dark] .colab-df-convert {\n",
              "      background-color: #3B4455;\n",
              "      fill: #D2E3FC;\n",
              "    }\n",
              "\n",
              "    [theme=dark] .colab-df-convert:hover {\n",
              "      background-color: #434B5C;\n",
              "      box-shadow: 0px 1px 3px 1px rgba(0, 0, 0, 0.15);\n",
              "      filter: drop-shadow(0px 1px 2px rgba(0, 0, 0, 0.3));\n",
              "      fill: #FFFFFF;\n",
              "    }\n",
              "  </style>\n",
              "\n",
              "      <script>\n",
              "        const buttonEl =\n",
              "          document.querySelector('#df-080d20cf-3fdb-4728-b1e5-f4c969f182a2 button.colab-df-convert');\n",
              "        buttonEl.style.display =\n",
              "          google.colab.kernel.accessAllowed ? 'block' : 'none';\n",
              "\n",
              "        async function convertToInteractive(key) {\n",
              "          const element = document.querySelector('#df-080d20cf-3fdb-4728-b1e5-f4c969f182a2');\n",
              "          const dataTable =\n",
              "            await google.colab.kernel.invokeFunction('convertToInteractive',\n",
              "                                                     [key], {});\n",
              "          if (!dataTable) return;\n",
              "\n",
              "          const docLinkHtml = 'Like what you see? Visit the ' +\n",
              "            '<a target=\"_blank\" href=https://colab.research.google.com/notebooks/data_table.ipynb>data table notebook</a>'\n",
              "            + ' to learn more about interactive tables.';\n",
              "          element.innerHTML = '';\n",
              "          dataTable['output_type'] = 'display_data';\n",
              "          await google.colab.output.renderOutput(dataTable, element);\n",
              "          const docLink = document.createElement('div');\n",
              "          docLink.innerHTML = docLinkHtml;\n",
              "          element.appendChild(docLink);\n",
              "        }\n",
              "      </script>\n",
              "    </div>\n",
              "  </div>\n",
              "  "
            ]
          },
          "metadata": {},
          "execution_count": 9
        }
      ]
    },
    {
      "cell_type": "code",
      "source": [
        "questions_test = list(test_df_new['source_text'])\n",
        "answers_test = list(test_df_new['target_text'])\n",
        "\n",
        "len(answers_test), len(questions_test) "
      ],
      "metadata": {
        "colab": {
          "base_uri": "https://localhost:8080/"
        },
        "id": "ESuHHfeELeyn",
        "outputId": "c2a383ad-e75f-4b81-e542-979132e4b7ec"
      },
      "execution_count": 43,
      "outputs": [
        {
          "output_type": "execute_result",
          "data": {
            "text/plain": [
              "(1097, 1097)"
            ]
          },
          "metadata": {},
          "execution_count": 43
        }
      ]
    },
    {
      "cell_type": "markdown",
      "source": [
        "## III) Load model and test with BLEU score"
      ],
      "metadata": {
        "id": "G7xi3dV0aBJC"
      }
    },
    {
      "cell_type": "code",
      "source": [
        "# Load le model\n",
        "model = SimpleT5()\n",
        "modelPATH = \"drive/MyDrive/TER/ml/models/SimpleT5.joblib\"\n",
        "\n",
        "model = joblib.load(modelPATH)"
      ],
      "metadata": {
        "id": "pFgHTDy5Ohlq"
      },
      "execution_count": 37,
      "outputs": []
    },
    {
      "cell_type": "code",
      "source": [
        "# Compute score\n",
        "score = 0\n",
        "for i, qst in tqdm(enumerate(questions_test)):\n",
        "  answer_chatbot = model.predict(qst, num_return_sequences=10, num_beams=10)\n",
        "  answer_chatbot_splitted = [answer.split() for answer in answer_chatbot]\n",
        "  real_answer_splitted = answers_test[i].split()\n",
        "  score += sentence_bleu(answer_chatbot_splitted, real_answer_splitted)\n",
        "score/= len(questions_test)\n",
        "print(f'Le score est de {score}')"
      ],
      "metadata": {
        "colab": {
          "base_uri": "https://localhost:8080/"
        },
        "id": "6tKO1aB2OirI",
        "outputId": "37ecc514-2d5c-44fe-9d2f-a6fe7ac1fd48"
      },
      "execution_count": 56,
      "outputs": [
        {
          "output_type": "stream",
          "name": "stderr",
          "text": [
            "/usr/local/lib/python3.7/dist-packages/nltk/translate/bleu_score.py:490: UserWarning: \n",
            "Corpus/Sentence contains 0 counts of 2-gram overlaps.\n",
            "BLEU scores might be undesirable; use SmoothingFunction().\n",
            "  warnings.warn(_msg)\n",
            "/usr/local/lib/python3.7/dist-packages/nltk/translate/bleu_score.py:490: UserWarning: \n",
            "Corpus/Sentence contains 0 counts of 4-gram overlaps.\n",
            "BLEU scores might be undesirable; use SmoothingFunction().\n",
            "  warnings.warn(_msg)\n",
            "/usr/local/lib/python3.7/dist-packages/nltk/translate/bleu_score.py:490: UserWarning: \n",
            "Corpus/Sentence contains 0 counts of 3-gram overlaps.\n",
            "BLEU scores might be undesirable; use SmoothingFunction().\n",
            "  warnings.warn(_msg)\n"
          ]
        },
        {
          "output_type": "stream",
          "name": "stdout",
          "text": [
            "Le score est de 0.6297767901291315\n"
          ]
        }
      ]
    },
    {
      "cell_type": "code",
      "source": [
        "print(f'Le score est de {score}')"
      ],
      "metadata": {
        "colab": {
          "base_uri": "https://localhost:8080/"
        },
        "id": "65G90MgfPw7E",
        "outputId": "574d552d-ea75-4d7d-94ce-15906753d62a"
      },
      "execution_count": 57,
      "outputs": [
        {
          "output_type": "stream",
          "name": "stdout",
          "text": [
            "Le score est de 0.6297767901291315\n"
          ]
        }
      ]
    },
    {
      "cell_type": "code",
      "source": [
        "# Je laisse ça là au cas ou on en aurait besoin \n",
        "\n",
        "# grouped_by_questions = result.groupby('source_text')['target_text'].apply(list)\n",
        "# questions_test = list(grouped_by_questions.index)\n",
        "# answers_test = list(grouped_by_questions)\n",
        "# len(answers_test), len(questions_test) "
      ],
      "metadata": {
        "id": "s5j_NojnSSpb"
      },
      "execution_count": null,
      "outputs": []
    }
  ]
}