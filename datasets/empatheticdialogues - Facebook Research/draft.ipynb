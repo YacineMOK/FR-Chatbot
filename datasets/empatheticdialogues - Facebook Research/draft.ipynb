{
 "cells": [
  {
   "cell_type": "markdown",
   "source": "## Data Analysis - empathetic dialogues (ParlAI - Facebook Research)\n\n###### **Original Dataset:** [HuggingFace](https://huggingface.co/datasets/empathetic_dialogues) -- [Facebook Research (GitHub)](https://github.com/facebookresearch/EmpatheticDialogues) -- [ParlAI](https://parl.ai/docs/tasks.html#empathetic-dialogues)\n###### **Students:** Yacine MOKHTARI & Lilia IZRI",
   "metadata": {
    "cell_id": "e92645aa-3791-47b1-b535-81b814f4bfa6",
    "deepnote_cell_type": "markdown",
    "deepnote_cell_height": 170.71875
   }
  },
  {
   "cell_type": "markdown",
   "source": "### Lectures des données + rapide analyse",
   "metadata": {
    "cell_id": "00001-e458c9c4-d288-4922-be83-1bddcd254e49",
    "deepnote_cell_type": "markdown",
    "deepnote_cell_height": 61.921875
   }
  },
  {
   "cell_type": "code",
   "metadata": {
    "cell_id": "00002-04de1c49-b4df-48d9-8ebd-96bc82ff1a70",
    "deepnote_cell_type": "code",
    "deepnote_cell_height": 263.9375
   },
   "source": "import pandas as pd\nimport numpy as np\nfrom tqdm import tqdm\nfrom wordcloud import WordCloud, STOPWORDS\nimport matplotlib.pyplot as plt\n\nPATH = \"./\"\nFILENAMES = [\"test\", \"train\", \"valid\"]\nCOLNAMES = [\"conv_id\", \"utterance_idx\", \"context\", \"prompt\", \"utterance\"]\ndf_test = pd.read_csv(PATH+FILENAMES[0]+\".csv\", usecols=COLNAMES)\ndf_train = pd.read_csv(PATH+FILENAMES[1]+\".csv\", usecols=COLNAMES)\ndf_valid = pd.read_csv(PATH+FILENAMES[2]+\".csv\", usecols=COLNAMES)",
   "outputs": [],
   "execution_count": null
  },
  {
   "cell_type": "code",
   "metadata": {
    "cell_id": "00003-f3300398-96f2-4ca9-937e-ebfce37c0512",
    "deepnote_cell_type": "code",
    "deepnote_cell_height": 436.59375,
    "deepnote_output_heights": [
     321.671875
    ]
   },
   "source": "# Un aperçu :\ndf_train.head(10)",
   "outputs": [
    {
     "data": {
      "text/html": "<div>\n<style scoped>\n    .dataframe tbody tr th:only-of-type {\n        vertical-align: middle;\n    }\n\n    .dataframe tbody tr th {\n        vertical-align: top;\n    }\n\n    .dataframe thead th {\n        text-align: right;\n    }\n</style>\n<table border=\"1\" class=\"dataframe\">\n  <thead>\n    <tr style=\"text-align: right;\">\n      <th></th>\n      <th>conv_id</th>\n      <th>utterance_idx</th>\n      <th>context</th>\n      <th>prompt</th>\n      <th>utterance</th>\n    </tr>\n  </thead>\n  <tbody>\n    <tr>\n      <th>0</th>\n      <td>hit:0_conv:1</td>\n      <td>1</td>\n      <td>sentimental</td>\n      <td>I remember going to the fireworks with my best...</td>\n      <td>I remember going to see the fireworks with my ...</td>\n    </tr>\n    <tr>\n      <th>1</th>\n      <td>hit:0_conv:1</td>\n      <td>2</td>\n      <td>sentimental</td>\n      <td>I remember going to the fireworks with my best...</td>\n      <td>Was this a friend you were in love with_comma_...</td>\n    </tr>\n    <tr>\n      <th>2</th>\n      <td>hit:0_conv:1</td>\n      <td>3</td>\n      <td>sentimental</td>\n      <td>I remember going to the fireworks with my best...</td>\n      <td>This was a best friend. I miss her.</td>\n    </tr>\n    <tr>\n      <th>3</th>\n      <td>hit:0_conv:1</td>\n      <td>4</td>\n      <td>sentimental</td>\n      <td>I remember going to the fireworks with my best...</td>\n      <td>Where has she gone?</td>\n    </tr>\n    <tr>\n      <th>4</th>\n      <td>hit:0_conv:1</td>\n      <td>5</td>\n      <td>sentimental</td>\n      <td>I remember going to the fireworks with my best...</td>\n      <td>We no longer talk.</td>\n    </tr>\n    <tr>\n      <th>5</th>\n      <td>hit:0_conv:1</td>\n      <td>6</td>\n      <td>sentimental</td>\n      <td>I remember going to the fireworks with my best...</td>\n      <td>Oh was this something that happened because of...</td>\n    </tr>\n    <tr>\n      <th>6</th>\n      <td>hit:1_conv:2</td>\n      <td>1</td>\n      <td>afraid</td>\n      <td>i used to scare for darkness</td>\n      <td>it feels like hitting to blank wall when i se...</td>\n    </tr>\n    <tr>\n      <th>7</th>\n      <td>hit:1_conv:2</td>\n      <td>2</td>\n      <td>afraid</td>\n      <td>i used to scare for darkness</td>\n      <td>Oh ya? I don't really see how</td>\n    </tr>\n    <tr>\n      <th>8</th>\n      <td>hit:1_conv:2</td>\n      <td>3</td>\n      <td>afraid</td>\n      <td>i used to scare for darkness</td>\n      <td>dont you feel so.. its a wonder</td>\n    </tr>\n    <tr>\n      <th>9</th>\n      <td>hit:1_conv:2</td>\n      <td>4</td>\n      <td>afraid</td>\n      <td>i used to scare for darkness</td>\n      <td>I do actually hit blank walls a lot of times b...</td>\n    </tr>\n  </tbody>\n</table>\n</div>",
      "text/plain": "        conv_id  utterance_idx      context  \\\n0  hit:0_conv:1              1  sentimental   \n1  hit:0_conv:1              2  sentimental   \n2  hit:0_conv:1              3  sentimental   \n3  hit:0_conv:1              4  sentimental   \n4  hit:0_conv:1              5  sentimental   \n5  hit:0_conv:1              6  sentimental   \n6  hit:1_conv:2              1       afraid   \n7  hit:1_conv:2              2       afraid   \n8  hit:1_conv:2              3       afraid   \n9  hit:1_conv:2              4       afraid   \n\n                                              prompt  \\\n0  I remember going to the fireworks with my best...   \n1  I remember going to the fireworks with my best...   \n2  I remember going to the fireworks with my best...   \n3  I remember going to the fireworks with my best...   \n4  I remember going to the fireworks with my best...   \n5  I remember going to the fireworks with my best...   \n6                       i used to scare for darkness   \n7                       i used to scare for darkness   \n8                       i used to scare for darkness   \n9                       i used to scare for darkness   \n\n                                           utterance  \n0  I remember going to see the fireworks with my ...  \n1  Was this a friend you were in love with_comma_...  \n2                This was a best friend. I miss her.  \n3                                Where has she gone?  \n4                                 We no longer talk.  \n5  Oh was this something that happened because of...  \n6   it feels like hitting to blank wall when i se...  \n7                      Oh ya? I don't really see how  \n8                   dont you feel so.. its a wonder   \n9  I do actually hit blank walls a lot of times b...  "
     },
     "execution_count": 2,
     "metadata": {},
     "output_type": "execute_result"
    }
   ],
   "execution_count": null
  },
  {
   "cell_type": "code",
   "metadata": {
    "cell_id": "00004-9b103db8-3600-4ffa-9f51-ab3718b84514",
    "deepnote_cell_type": "code",
    "deepnote_cell_height": 444.5625,
    "deepnote_output_heights": [
     347.640625
    ]
   },
   "source": "df_test.isna().sum(), df_train.isna().sum(), df_valid.isna().sum()",
   "outputs": [
    {
     "data": {
      "text/plain": "(conv_id          0\n utterance_idx    0\n context          0\n prompt           0\n utterance        0\n dtype: int64,\n conv_id          0\n utterance_idx    0\n context          0\n prompt           0\n utterance        0\n dtype: int64,\n conv_id          0\n utterance_idx    0\n context          0\n prompt           0\n utterance        0\n dtype: int64)"
     },
     "execution_count": 3,
     "metadata": {},
     "output_type": "execute_result"
    }
   ],
   "execution_count": null
  },
  {
   "cell_type": "code",
   "metadata": {
    "cell_id": "00005-87284e03-2675-40ff-be16-522e19840569",
    "deepnote_cell_type": "code",
    "deepnote_cell_height": 264.578125
   },
   "source": "print(\"Test length :\", len(df_test))\nprint(\"Train length :\", len(df_train))\nprint(\"valid length :\", len(df_valid))\nprint(\"\")\nprint(\"Nombre total de données :\", len(df_test)+len(df_train)+len(df_valid))",
   "outputs": [
    {
     "name": "stdout",
     "output_type": "stream",
     "text": "Test length : 10943\nTrain length : 76673\nvalid length : 12030\n\nNombre total de données : 99646\n"
    }
   ],
   "execution_count": null
  },
  {
   "cell_type": "code",
   "metadata": {
    "cell_id": "00006-d3a9d599-b431-47fc-adcd-fa02b91fd8f9",
    "deepnote_cell_type": "code",
    "deepnote_cell_height": 188.3125
   },
   "source": "print(\"Test :\", df_test.duplicated().sum(), \" dupliqué(s) !\")\nprint(\"Train :\", df_train.duplicated().sum(), \" dupliqué(s) !\")\nprint(\"Valid :\", df_valid.duplicated().sum(), \" dupliqué(s) !\")",
   "outputs": [
    {
     "name": "stdout",
     "output_type": "stream",
     "text": "Test : 0  dupliqué(s) !\nTrain : 0  dupliqué(s) !\nValid : 0  dupliqué(s) !\n"
    }
   ],
   "execution_count": null
  },
  {
   "cell_type": "code",
   "metadata": {
    "cell_id": "00007-6ad1faae-8faa-435f-93d7-5874b998ca3d",
    "deepnote_cell_type": "code",
    "deepnote_cell_height": 354.578125
   },
   "source": "# retirer les dupliquées\ndf_test = df_test[~df_test.duplicated()]\ndf_train = df_train[~df_train.duplicated()]\ndf_valid = df_valid[~df_valid.duplicated()]\n\nprint(\"Test length :\", len(df_test))\nprint(\"Train length :\", len(df_train))\nprint(\"valid length :\", len(df_valid))\nprint(\"\")\nprint(\"Nombre total de données après suppression de dupliqués:\", len(df_test)+len(df_train)+len(df_valid))",
   "outputs": [
    {
     "name": "stdout",
     "output_type": "stream",
     "text": "Test length : 10943\nTrain length : 76673\nvalid length : 12030\n\nNombre total de données après suppression de dupliqués: 99646\n"
    }
   ],
   "execution_count": null
  },
  {
   "cell_type": "markdown",
   "source": "* Au départ j'ai pas pris les deux premières colonnes, so j'avais des dupliquées mais je comprend mieux mtn :) ",
   "metadata": {
    "cell_id": "00008-affc98b9-5a81-4cf2-90c9-b14c59396981",
    "deepnote_cell_type": "markdown",
    "deepnote_cell_height": 69.3125
   }
  },
  {
   "cell_type": "code",
   "metadata": {
    "cell_id": "00009-a13f3ee9-70b4-4fe2-b888-f62138f883ff",
    "deepnote_cell_type": "code",
    "deepnote_cell_height": 184.03125
   },
   "source": "### Regarder si l'intersection est vide \nif ((len(pd.merge(df_test, df_train, how=\"inner\")), len(pd.merge(df_test, df_valid, how=\"inner\")), len(pd.merge(df_valid, df_train, how=\"inner\"))) == (0,0,0)):\n    print(\"Il n y a pas d'intersection entre les ensemble !\")\nelse:\n    print(\"Intersection détectée, regarde en détail :)\")",
   "outputs": [
    {
     "name": "stdout",
     "output_type": "stream",
     "text": "Il n y a pas d'intersection entre les ensemble !\n"
    }
   ],
   "execution_count": null
  },
  {
   "cell_type": "markdown",
   "source": "### Reconstitution du dataframe global\n1. Union des trois df\n2. Comprendre mieux le df\n3. Trier et grouper pour reproduire les scénarios/dialogues ",
   "metadata": {
    "cell_id": "00010-5f3fe9ff-3ea3-43ae-9c6a-eef914177357",
    "deepnote_cell_type": "markdown",
    "deepnote_cell_height": 165.09375
   }
  },
  {
   "cell_type": "code",
   "metadata": {
    "cell_id": "00011-1f1b7ca2-5eb5-48d4-b6c4-419b446e104f",
    "deepnote_cell_type": "code",
    "deepnote_cell_height": 472.578125,
    "deepnote_output_heights": [
     321.671875
    ]
   },
   "source": "# Union\nframes = [df_test, df_train, df_valid]\ndf = pd.concat(frames)\ndf.head(10)",
   "outputs": [
    {
     "data": {
      "text/html": "<div>\n<style scoped>\n    .dataframe tbody tr th:only-of-type {\n        vertical-align: middle;\n    }\n\n    .dataframe tbody tr th {\n        vertical-align: top;\n    }\n\n    .dataframe thead th {\n        text-align: right;\n    }\n</style>\n<table border=\"1\" class=\"dataframe\">\n  <thead>\n    <tr style=\"text-align: right;\">\n      <th></th>\n      <th>conv_id</th>\n      <th>utterance_idx</th>\n      <th>context</th>\n      <th>prompt</th>\n      <th>utterance</th>\n    </tr>\n  </thead>\n  <tbody>\n    <tr>\n      <th>0</th>\n      <td>hit:0_conv:0</td>\n      <td>1</td>\n      <td>guilty</td>\n      <td>I felt guilty when I was driving home one nigh...</td>\n      <td>Yeah about 10 years ago I had a horrifying exp...</td>\n    </tr>\n    <tr>\n      <th>1</th>\n      <td>hit:0_conv:0</td>\n      <td>2</td>\n      <td>guilty</td>\n      <td>I felt guilty when I was driving home one nigh...</td>\n      <td>Did you suffer any injuries?</td>\n    </tr>\n    <tr>\n      <th>2</th>\n      <td>hit:0_conv:0</td>\n      <td>3</td>\n      <td>guilty</td>\n      <td>I felt guilty when I was driving home one nigh...</td>\n      <td>No I wasn't hit. It turned out they were drunk...</td>\n    </tr>\n    <tr>\n      <th>3</th>\n      <td>hit:0_conv:0</td>\n      <td>4</td>\n      <td>guilty</td>\n      <td>I felt guilty when I was driving home one nigh...</td>\n      <td>Why did you feel guilty? People really shouldn...</td>\n    </tr>\n    <tr>\n      <th>4</th>\n      <td>hit:0_conv:0</td>\n      <td>5</td>\n      <td>guilty</td>\n      <td>I felt guilty when I was driving home one nigh...</td>\n      <td>I don't know I was new to driving and hadn't e...</td>\n    </tr>\n    <tr>\n      <th>5</th>\n      <td>hit:34_conv:69</td>\n      <td>1</td>\n      <td>caring</td>\n      <td>My mother stopped by my house one day and said...</td>\n      <td>Well_comma_ can you tell me about your experie...</td>\n    </tr>\n    <tr>\n      <th>6</th>\n      <td>hit:34_conv:69</td>\n      <td>2</td>\n      <td>caring</td>\n      <td>My mother stopped by my house one day and said...</td>\n      <td>Yeah i wanted to tell you about the time i was...</td>\n    </tr>\n    <tr>\n      <th>7</th>\n      <td>hit:34_conv:69</td>\n      <td>3</td>\n      <td>caring</td>\n      <td>My mother stopped by my house one day and said...</td>\n      <td>Oh my goodness_comma_ that's very scary! I hop...</td>\n    </tr>\n    <tr>\n      <th>8</th>\n      <td>hit:34_conv:69</td>\n      <td>4</td>\n      <td>caring</td>\n      <td>My mother stopped by my house one day and said...</td>\n      <td>Yeah he was punished hes in jail still</td>\n    </tr>\n    <tr>\n      <th>9</th>\n      <td>hit:37_conv:74</td>\n      <td>1</td>\n      <td>lonely</td>\n      <td>I just broke up with my girlfriend_comma_ we w...</td>\n      <td>I there_comma_ dont know what to do_comma_ jst...</td>\n    </tr>\n  </tbody>\n</table>\n</div>",
      "text/plain": "          conv_id  utterance_idx context  \\\n0    hit:0_conv:0              1  guilty   \n1    hit:0_conv:0              2  guilty   \n2    hit:0_conv:0              3  guilty   \n3    hit:0_conv:0              4  guilty   \n4    hit:0_conv:0              5  guilty   \n5  hit:34_conv:69              1  caring   \n6  hit:34_conv:69              2  caring   \n7  hit:34_conv:69              3  caring   \n8  hit:34_conv:69              4  caring   \n9  hit:37_conv:74              1  lonely   \n\n                                              prompt  \\\n0  I felt guilty when I was driving home one nigh...   \n1  I felt guilty when I was driving home one nigh...   \n2  I felt guilty when I was driving home one nigh...   \n3  I felt guilty when I was driving home one nigh...   \n4  I felt guilty when I was driving home one nigh...   \n5  My mother stopped by my house one day and said...   \n6  My mother stopped by my house one day and said...   \n7  My mother stopped by my house one day and said...   \n8  My mother stopped by my house one day and said...   \n9  I just broke up with my girlfriend_comma_ we w...   \n\n                                           utterance  \n0  Yeah about 10 years ago I had a horrifying exp...  \n1                       Did you suffer any injuries?  \n2  No I wasn't hit. It turned out they were drunk...  \n3  Why did you feel guilty? People really shouldn...  \n4  I don't know I was new to driving and hadn't e...  \n5  Well_comma_ can you tell me about your experie...  \n6  Yeah i wanted to tell you about the time i was...  \n7  Oh my goodness_comma_ that's very scary! I hop...  \n8             Yeah he was punished hes in jail still  \n9  I there_comma_ dont know what to do_comma_ jst...  "
     },
     "execution_count": 8,
     "metadata": {},
     "output_type": "execute_result"
    }
   ],
   "execution_count": null
  },
  {
   "cell_type": "code",
   "metadata": {
    "cell_id": "00012-8c574191-e04b-4ada-b54a-51f197121e0d",
    "deepnote_cell_type": "code",
    "deepnote_cell_height": 454.59375,
    "deepnote_output_heights": [
     321.671875
    ]
   },
   "source": "# Comprendre qu'il existe plusieurs \"dialogues/scénarios\" pour un même contexte\n# et que ce qui les diffèrent est le \"prompt\"\ndf[df.context.values == \"guilty\"].head(10)",
   "outputs": [
    {
     "data": {
      "text/html": "<div>\n<style scoped>\n    .dataframe tbody tr th:only-of-type {\n        vertical-align: middle;\n    }\n\n    .dataframe tbody tr th {\n        vertical-align: top;\n    }\n\n    .dataframe thead th {\n        text-align: right;\n    }\n</style>\n<table border=\"1\" class=\"dataframe\">\n  <thead>\n    <tr style=\"text-align: right;\">\n      <th></th>\n      <th>conv_id</th>\n      <th>utterance_idx</th>\n      <th>context</th>\n      <th>prompt</th>\n      <th>utterance</th>\n    </tr>\n  </thead>\n  <tbody>\n    <tr>\n      <th>0</th>\n      <td>hit:0_conv:0</td>\n      <td>1</td>\n      <td>guilty</td>\n      <td>I felt guilty when I was driving home one nigh...</td>\n      <td>Yeah about 10 years ago I had a horrifying exp...</td>\n    </tr>\n    <tr>\n      <th>1</th>\n      <td>hit:0_conv:0</td>\n      <td>2</td>\n      <td>guilty</td>\n      <td>I felt guilty when I was driving home one nigh...</td>\n      <td>Did you suffer any injuries?</td>\n    </tr>\n    <tr>\n      <th>2</th>\n      <td>hit:0_conv:0</td>\n      <td>3</td>\n      <td>guilty</td>\n      <td>I felt guilty when I was driving home one nigh...</td>\n      <td>No I wasn't hit. It turned out they were drunk...</td>\n    </tr>\n    <tr>\n      <th>3</th>\n      <td>hit:0_conv:0</td>\n      <td>4</td>\n      <td>guilty</td>\n      <td>I felt guilty when I was driving home one nigh...</td>\n      <td>Why did you feel guilty? People really shouldn...</td>\n    </tr>\n    <tr>\n      <th>4</th>\n      <td>hit:0_conv:0</td>\n      <td>5</td>\n      <td>guilty</td>\n      <td>I felt guilty when I was driving home one nigh...</td>\n      <td>I don't know I was new to driving and hadn't e...</td>\n    </tr>\n    <tr>\n      <th>224</th>\n      <td>hit:291_conv:582</td>\n      <td>1</td>\n      <td>guilty</td>\n      <td>I waited at a restaurant for 30 minutes befor...</td>\n      <td>Did I tell you what happened with Li the other...</td>\n    </tr>\n    <tr>\n      <th>225</th>\n      <td>hit:291_conv:582</td>\n      <td>2</td>\n      <td>guilty</td>\n      <td>I waited at a restaurant for 30 minutes befor...</td>\n      <td>No_comma_ you didn't tell me! What happened?</td>\n    </tr>\n    <tr>\n      <th>226</th>\n      <td>hit:291_conv:582</td>\n      <td>3</td>\n      <td>guilty</td>\n      <td>I waited at a restaurant for 30 minutes befor...</td>\n      <td>She's 45 minutes late to our anniversary dinne...</td>\n    </tr>\n    <tr>\n      <th>227</th>\n      <td>hit:291_conv:582</td>\n      <td>4</td>\n      <td>guilty</td>\n      <td>I waited at a restaurant for 30 minutes befor...</td>\n      <td>Oh no! Is she okay?! Don't beat yourself up to...</td>\n    </tr>\n    <tr>\n      <th>260</th>\n      <td>hit:337_conv:674</td>\n      <td>1</td>\n      <td>guilty</td>\n      <td>I felt bad recently because I was dishonest wi...</td>\n      <td>I felt pretty bad when I was having girl talk ...</td>\n    </tr>\n  </tbody>\n</table>\n</div>",
      "text/plain": "              conv_id  utterance_idx context  \\\n0        hit:0_conv:0              1  guilty   \n1        hit:0_conv:0              2  guilty   \n2        hit:0_conv:0              3  guilty   \n3        hit:0_conv:0              4  guilty   \n4        hit:0_conv:0              5  guilty   \n224  hit:291_conv:582              1  guilty   \n225  hit:291_conv:582              2  guilty   \n226  hit:291_conv:582              3  guilty   \n227  hit:291_conv:582              4  guilty   \n260  hit:337_conv:674              1  guilty   \n\n                                                prompt  \\\n0    I felt guilty when I was driving home one nigh...   \n1    I felt guilty when I was driving home one nigh...   \n2    I felt guilty when I was driving home one nigh...   \n3    I felt guilty when I was driving home one nigh...   \n4    I felt guilty when I was driving home one nigh...   \n224   I waited at a restaurant for 30 minutes befor...   \n225   I waited at a restaurant for 30 minutes befor...   \n226   I waited at a restaurant for 30 minutes befor...   \n227   I waited at a restaurant for 30 minutes befor...   \n260  I felt bad recently because I was dishonest wi...   \n\n                                             utterance  \n0    Yeah about 10 years ago I had a horrifying exp...  \n1                         Did you suffer any injuries?  \n2    No I wasn't hit. It turned out they were drunk...  \n3    Why did you feel guilty? People really shouldn...  \n4    I don't know I was new to driving and hadn't e...  \n224  Did I tell you what happened with Li the other...  \n225       No_comma_ you didn't tell me! What happened?  \n226  She's 45 minutes late to our anniversary dinne...  \n227  Oh no! Is she okay?! Don't beat yourself up to...  \n260  I felt pretty bad when I was having girl talk ...  "
     },
     "execution_count": 9,
     "metadata": {},
     "output_type": "execute_result"
    }
   ],
   "execution_count": null
  },
  {
   "cell_type": "markdown",
   "source": "Nous remarquons ainsi que :\n* Il existe plusieurs \"dialogues/scénarios\" pour un même contexte\n* \"utterence_idx\" indique l'ordre des messages \"utterence\" pour un \"conv_id\" donnée\n\nAinsi, il conviendrait peut-être de trier le jeu de données suivant les colonnes [\"conv_id\", \"utterance_idx\"] et de les grouper selon les colonnes [\"context\", \"prompt\"].",
   "metadata": {
    "cell_id": "00013-fcec774b-0970-47ac-8b90-0d752b2282d0",
    "deepnote_cell_type": "markdown",
    "deepnote_cell_height": 172.90625
   }
  },
  {
   "cell_type": "code",
   "metadata": {
    "cell_id": "00014-432b63e2-11b8-429b-b8d5-3333c5f27253",
    "deepnote_cell_type": "code",
    "deepnote_cell_height": 436.59375,
    "deepnote_output_heights": [
     321.671875
    ]
   },
   "source": "df_sorted = df.sort_values(by=[\"conv_id\", \"utterance_idx\"])\ndf_sorted.head(10)",
   "outputs": [
    {
     "data": {
      "text/html": "<div>\n<style scoped>\n    .dataframe tbody tr th:only-of-type {\n        vertical-align: middle;\n    }\n\n    .dataframe tbody tr th {\n        vertical-align: top;\n    }\n\n    .dataframe thead th {\n        text-align: right;\n    }\n</style>\n<table border=\"1\" class=\"dataframe\">\n  <thead>\n    <tr style=\"text-align: right;\">\n      <th></th>\n      <th>conv_id</th>\n      <th>utterance_idx</th>\n      <th>context</th>\n      <th>prompt</th>\n      <th>utterance</th>\n    </tr>\n  </thead>\n  <tbody>\n    <tr>\n      <th>0</th>\n      <td>hit:0_conv:0</td>\n      <td>1</td>\n      <td>guilty</td>\n      <td>I felt guilty when I was driving home one nigh...</td>\n      <td>Yeah about 10 years ago I had a horrifying exp...</td>\n    </tr>\n    <tr>\n      <th>1</th>\n      <td>hit:0_conv:0</td>\n      <td>2</td>\n      <td>guilty</td>\n      <td>I felt guilty when I was driving home one nigh...</td>\n      <td>Did you suffer any injuries?</td>\n    </tr>\n    <tr>\n      <th>2</th>\n      <td>hit:0_conv:0</td>\n      <td>3</td>\n      <td>guilty</td>\n      <td>I felt guilty when I was driving home one nigh...</td>\n      <td>No I wasn't hit. It turned out they were drunk...</td>\n    </tr>\n    <tr>\n      <th>3</th>\n      <td>hit:0_conv:0</td>\n      <td>4</td>\n      <td>guilty</td>\n      <td>I felt guilty when I was driving home one nigh...</td>\n      <td>Why did you feel guilty? People really shouldn...</td>\n    </tr>\n    <tr>\n      <th>4</th>\n      <td>hit:0_conv:0</td>\n      <td>5</td>\n      <td>guilty</td>\n      <td>I felt guilty when I was driving home one nigh...</td>\n      <td>I don't know I was new to driving and hadn't e...</td>\n    </tr>\n    <tr>\n      <th>0</th>\n      <td>hit:0_conv:1</td>\n      <td>1</td>\n      <td>sentimental</td>\n      <td>I remember going to the fireworks with my best...</td>\n      <td>I remember going to see the fireworks with my ...</td>\n    </tr>\n    <tr>\n      <th>1</th>\n      <td>hit:0_conv:1</td>\n      <td>2</td>\n      <td>sentimental</td>\n      <td>I remember going to the fireworks with my best...</td>\n      <td>Was this a friend you were in love with_comma_...</td>\n    </tr>\n    <tr>\n      <th>2</th>\n      <td>hit:0_conv:1</td>\n      <td>3</td>\n      <td>sentimental</td>\n      <td>I remember going to the fireworks with my best...</td>\n      <td>This was a best friend. I miss her.</td>\n    </tr>\n    <tr>\n      <th>3</th>\n      <td>hit:0_conv:1</td>\n      <td>4</td>\n      <td>sentimental</td>\n      <td>I remember going to the fireworks with my best...</td>\n      <td>Where has she gone?</td>\n    </tr>\n    <tr>\n      <th>4</th>\n      <td>hit:0_conv:1</td>\n      <td>5</td>\n      <td>sentimental</td>\n      <td>I remember going to the fireworks with my best...</td>\n      <td>We no longer talk.</td>\n    </tr>\n  </tbody>\n</table>\n</div>",
      "text/plain": "        conv_id  utterance_idx      context  \\\n0  hit:0_conv:0              1       guilty   \n1  hit:0_conv:0              2       guilty   \n2  hit:0_conv:0              3       guilty   \n3  hit:0_conv:0              4       guilty   \n4  hit:0_conv:0              5       guilty   \n0  hit:0_conv:1              1  sentimental   \n1  hit:0_conv:1              2  sentimental   \n2  hit:0_conv:1              3  sentimental   \n3  hit:0_conv:1              4  sentimental   \n4  hit:0_conv:1              5  sentimental   \n\n                                              prompt  \\\n0  I felt guilty when I was driving home one nigh...   \n1  I felt guilty when I was driving home one nigh...   \n2  I felt guilty when I was driving home one nigh...   \n3  I felt guilty when I was driving home one nigh...   \n4  I felt guilty when I was driving home one nigh...   \n0  I remember going to the fireworks with my best...   \n1  I remember going to the fireworks with my best...   \n2  I remember going to the fireworks with my best...   \n3  I remember going to the fireworks with my best...   \n4  I remember going to the fireworks with my best...   \n\n                                           utterance  \n0  Yeah about 10 years ago I had a horrifying exp...  \n1                       Did you suffer any injuries?  \n2  No I wasn't hit. It turned out they were drunk...  \n3  Why did you feel guilty? People really shouldn...  \n4  I don't know I was new to driving and hadn't e...  \n0  I remember going to see the fireworks with my ...  \n1  Was this a friend you were in love with_comma_...  \n2                This was a best friend. I miss her.  \n3                                Where has she gone?  \n4                                 We no longer talk.  "
     },
     "execution_count": 10,
     "metadata": {},
     "output_type": "execute_result"
    }
   ],
   "execution_count": null
  },
  {
   "cell_type": "code",
   "metadata": {
    "cell_id": "00015-ec057c10-7a4c-4443-afb3-5af5f3973b59",
    "deepnote_cell_type": "code",
    "deepnote_cell_height": 587.9375
   },
   "source": "def extraireSelonDialogue(dataframe):\n    question = []\n    reponse =  []\n    ctx = []\n\n    qst = True # Si à vrai, ajouter en tant que question, si faux, ajouter en tant que réponse\n    for i in tqdm(np.arange(len(dataframe))):\n        tmp = dataframe.iloc[i]\n\n        # un nouveau scénario/dialogue\n        if (tmp[\"utterance_idx\"] == 1):\n            # si le dernier ajout était une question, \n            # NaN pour la réponse \n            if qst == False :\n                reponse.append(\"\")\n                qst = True\n        \n        # Ajout de la Question / Réponse\n        if qst:\n                question.append(tmp.utterance.replace(\"_comma_\", \",\"))\n                \n                # Ajout du contexte (émotion)\n                ctx.append(tmp[\"context\"])\n        else : \n            reponse.append(tmp.utterance.replace(\"_comma_\", \",\"))\n        qst = not qst\n\n        \n\n    return question, reponse, ctx",
   "outputs": [],
   "execution_count": null
  },
  {
   "cell_type": "code",
   "metadata": {
    "cell_id": "00016-d866316f-ec1d-460a-8dd2-23ace13ab74a",
    "deepnote_cell_type": "code",
    "deepnote_cell_height": 130.03125
   },
   "source": "q, r, c = extraireSelonDialogue(df_sorted)\nassert len(q) == len(r) == len(c)",
   "outputs": [
    {
     "name": "stderr",
     "output_type": "stream",
     "text": "100%|██████████| 99646/99646 [00:12<00:00, 7868.36it/s]\n"
    }
   ],
   "execution_count": null
  },
  {
   "cell_type": "code",
   "metadata": {
    "cell_id": "00017-4e32dbe9-bc50-4326-8b67-7465e8bf7f79",
    "deepnote_cell_type": "code",
    "deepnote_cell_height": 721.21875,
    "deepnote_output_heights": [
     606.3125
    ]
   },
   "source": "df_QA = pd.DataFrame(data =  { \"Context\" : c,  \"Question\" : q, \"Reponse\" : r})\ndf_QA.head(20)",
   "outputs": [
    {
     "data": {
      "text/html": "<div>\n<style scoped>\n    .dataframe tbody tr th:only-of-type {\n        vertical-align: middle;\n    }\n\n    .dataframe tbody tr th {\n        vertical-align: top;\n    }\n\n    .dataframe thead th {\n        text-align: right;\n    }\n</style>\n<table border=\"1\" class=\"dataframe\">\n  <thead>\n    <tr style=\"text-align: right;\">\n      <th></th>\n      <th>Context</th>\n      <th>Question</th>\n      <th>Reponse</th>\n    </tr>\n  </thead>\n  <tbody>\n    <tr>\n      <th>0</th>\n      <td>guilty</td>\n      <td>Yeah about 10 years ago I had a horrifying exp...</td>\n      <td>Did you suffer any injuries?</td>\n    </tr>\n    <tr>\n      <th>1</th>\n      <td>guilty</td>\n      <td>No I wasn't hit. It turned out they were drunk...</td>\n      <td>Why did you feel guilty? People really shouldn...</td>\n    </tr>\n    <tr>\n      <th>2</th>\n      <td>guilty</td>\n      <td>I don't know I was new to driving and hadn't e...</td>\n      <td></td>\n    </tr>\n    <tr>\n      <th>3</th>\n      <td>sentimental</td>\n      <td>I remember going to see the fireworks with my ...</td>\n      <td>Was this a friend you were in love with, or ju...</td>\n    </tr>\n    <tr>\n      <th>4</th>\n      <td>sentimental</td>\n      <td>This was a best friend. I miss her.</td>\n      <td>Where has she gone?</td>\n    </tr>\n    <tr>\n      <th>5</th>\n      <td>sentimental</td>\n      <td>We no longer talk.</td>\n      <td>Oh was this something that happened because of...</td>\n    </tr>\n    <tr>\n      <th>6</th>\n      <td>surprised</td>\n      <td>My girlfriend got me a pet toad today!</td>\n      <td>Do you like toads?</td>\n    </tr>\n    <tr>\n      <th>7</th>\n      <td>surprised</td>\n      <td>I do! I was so happy when I opened the box and...</td>\n      <td>That was nice of your girlfriend, do you love ...</td>\n    </tr>\n    <tr>\n      <th>8</th>\n      <td>impressed</td>\n      <td>I really like the new paint job on my house.</td>\n      <td>That's nice. What color did you paint it?</td>\n    </tr>\n    <tr>\n      <th>9</th>\n      <td>impressed</td>\n      <td>I went with blue and yellow.</td>\n      <td>Those are swell colors! I am sure they will br...</td>\n    </tr>\n    <tr>\n      <th>10</th>\n      <td>lonely</td>\n      <td>I went to the skating rink all by myself today...</td>\n      <td>That's disappointing. I'm glad that you didn't...</td>\n    </tr>\n    <tr>\n      <th>11</th>\n      <td>lonely</td>\n      <td>Oh, it was a dreadful time. I never felt so al...</td>\n      <td>Why weren't your friends able to come?</td>\n    </tr>\n    <tr>\n      <th>12</th>\n      <td>annoyed</td>\n      <td>My upstairs neighbors make a ton of noise at a...</td>\n      <td>That really sucks. Maybe you should try egging...</td>\n    </tr>\n    <tr>\n      <th>13</th>\n      <td>annoyed</td>\n      <td>I'm not trying to get arrested! I think I'll j...</td>\n      <td>I would go with the bigfoot option. You can ge...</td>\n    </tr>\n    <tr>\n      <th>14</th>\n      <td>ashamed</td>\n      <td>I was walking on the road. I saw a beggar and ...</td>\n      <td>Wow, that's kinda mean</td>\n    </tr>\n    <tr>\n      <th>15</th>\n      <td>ashamed</td>\n      <td>yeah i know. i was in a hurry and i am ashamed...</td>\n      <td>You think he will be there next time so you ca...</td>\n    </tr>\n    <tr>\n      <th>16</th>\n      <td>guilty</td>\n      <td>I ate my co-worker's cake, which was in the fr...</td>\n      <td>haha, was that intentional to get revenge on h...</td>\n    </tr>\n    <tr>\n      <th>17</th>\n      <td>guilty</td>\n      <td>I was hungry, I didn't' know it was his, and w...</td>\n      <td>haha. Did you tell him about it?</td>\n    </tr>\n    <tr>\n      <th>18</th>\n      <td>guilty</td>\n      <td>No, he doesn't knows</td>\n      <td></td>\n    </tr>\n    <tr>\n      <th>19</th>\n      <td>nostalgic</td>\n      <td>I was able to pull up on the internet pictures...</td>\n      <td>Very nice. I bet you were full of joy to see t...</td>\n    </tr>\n  </tbody>\n</table>\n</div>",
      "text/plain": "        Context                                           Question  \\\n0        guilty  Yeah about 10 years ago I had a horrifying exp...   \n1        guilty  No I wasn't hit. It turned out they were drunk...   \n2        guilty  I don't know I was new to driving and hadn't e...   \n3   sentimental  I remember going to see the fireworks with my ...   \n4   sentimental                This was a best friend. I miss her.   \n5   sentimental                                 We no longer talk.   \n6     surprised             My girlfriend got me a pet toad today!   \n7     surprised  I do! I was so happy when I opened the box and...   \n8     impressed       I really like the new paint job on my house.   \n9     impressed                       I went with blue and yellow.   \n10       lonely  I went to the skating rink all by myself today...   \n11       lonely  Oh, it was a dreadful time. I never felt so al...   \n12      annoyed  My upstairs neighbors make a ton of noise at a...   \n13      annoyed  I'm not trying to get arrested! I think I'll j...   \n14      ashamed  I was walking on the road. I saw a beggar and ...   \n15      ashamed  yeah i know. i was in a hurry and i am ashamed...   \n16       guilty  I ate my co-worker's cake, which was in the fr...   \n17       guilty  I was hungry, I didn't' know it was his, and w...   \n18       guilty                               No, he doesn't knows   \n19    nostalgic  I was able to pull up on the internet pictures...   \n\n                                              Reponse  \n0                        Did you suffer any injuries?  \n1   Why did you feel guilty? People really shouldn...  \n2                                                      \n3   Was this a friend you were in love with, or ju...  \n4                                 Where has she gone?  \n5   Oh was this something that happened because of...  \n6                                  Do you like toads?  \n7   That was nice of your girlfriend, do you love ...  \n8           That's nice. What color did you paint it?  \n9   Those are swell colors! I am sure they will br...  \n10  That's disappointing. I'm glad that you didn't...  \n11             Why weren't your friends able to come?  \n12  That really sucks. Maybe you should try egging...  \n13  I would go with the bigfoot option. You can ge...  \n14                             Wow, that's kinda mean  \n15  You think he will be there next time so you ca...  \n16  haha, was that intentional to get revenge on h...  \n17                   haha. Did you tell him about it?  \n18                                                     \n19  Very nice. I bet you were full of joy to see t...  "
     },
     "execution_count": 13,
     "metadata": {},
     "output_type": "execute_result"
    }
   ],
   "execution_count": null
  },
  {
   "cell_type": "code",
   "metadata": {
    "cell_id": "00018-5debc755-58f5-4d76-9f6e-15db950e7e50",
    "deepnote_cell_type": "code",
    "deepnote_cell_height": 148.03125
   },
   "source": "# Enlever les questions sans réponses (fin de conv)\nmask = (df_QA[\"Reponse\"].values == \"\")\nprint(\"Il y a\", mask.sum(), \" questions sans réponses.\")",
   "outputs": [
    {
     "name": "stdout",
     "output_type": "stream",
     "text": "Il y a 4468  questions sans réponses.\n"
    }
   ],
   "execution_count": null
  },
  {
   "cell_type": "code",
   "metadata": {
    "cell_id": "00019-2d155c33-d397-4b9d-a48a-defeebaf3bb2",
    "deepnote_cell_type": "code",
    "deepnote_cell_height": 476.53125,
    "deepnote_output_heights": [
     379.609375
    ]
   },
   "source": "df_QA[mask].head(12)",
   "outputs": [
    {
     "data": {
      "text/html": "<div>\n<style scoped>\n    .dataframe tbody tr th:only-of-type {\n        vertical-align: middle;\n    }\n\n    .dataframe tbody tr th {\n        vertical-align: top;\n    }\n\n    .dataframe thead th {\n        text-align: right;\n    }\n</style>\n<table border=\"1\" class=\"dataframe\">\n  <thead>\n    <tr style=\"text-align: right;\">\n      <th></th>\n      <th>Context</th>\n      <th>Question</th>\n      <th>Reponse</th>\n    </tr>\n  </thead>\n  <tbody>\n    <tr>\n      <th>2</th>\n      <td>guilty</td>\n      <td>I don't know I was new to driving and hadn't e...</td>\n      <td></td>\n    </tr>\n    <tr>\n      <th>18</th>\n      <td>guilty</td>\n      <td>No, he doesn't knows</td>\n      <td></td>\n    </tr>\n    <tr>\n      <th>27</th>\n      <td>confident</td>\n      <td>Statistics exam. I aced this class for sure. T...</td>\n      <td></td>\n    </tr>\n    <tr>\n      <th>36</th>\n      <td>joyful</td>\n      <td>Thanks</td>\n      <td></td>\n    </tr>\n    <tr>\n      <th>43</th>\n      <td>anxious</td>\n      <td>Yeah my family.  We're going to the beach.</td>\n      <td></td>\n    </tr>\n    <tr>\n      <th>50</th>\n      <td>excited</td>\n      <td>I am taking to a movie and the Olive Garden.</td>\n      <td></td>\n    </tr>\n    <tr>\n      <th>71</th>\n      <td>surprised</td>\n      <td>No not yet.  He's sitting here playing Battlef...</td>\n      <td></td>\n    </tr>\n    <tr>\n      <th>76</th>\n      <td>content</td>\n      <td>I got all of my housework done. For the rest o...</td>\n      <td></td>\n    </tr>\n    <tr>\n      <th>83</th>\n      <td>devastated</td>\n      <td>I know but now I am afraid he will never return</td>\n      <td></td>\n    </tr>\n    <tr>\n      <th>100</th>\n      <td>faithful</td>\n      <td>Wow. Looks like you are doing a good job.</td>\n      <td></td>\n    </tr>\n    <tr>\n      <th>141</th>\n      <td>apprehensive</td>\n      <td>Thank you for the vote of confidence.  It will...</td>\n      <td></td>\n    </tr>\n    <tr>\n      <th>153</th>\n      <td>anticipating</td>\n      <td>Yes! Thanks for listening! It's making me more...</td>\n      <td></td>\n    </tr>\n  </tbody>\n</table>\n</div>",
      "text/plain": "          Context                                           Question Reponse\n2          guilty  I don't know I was new to driving and hadn't e...        \n18         guilty                               No, he doesn't knows        \n27      confident  Statistics exam. I aced this class for sure. T...        \n36         joyful                                             Thanks        \n43        anxious         Yeah my family.  We're going to the beach.        \n50        excited       I am taking to a movie and the Olive Garden.        \n71      surprised  No not yet.  He's sitting here playing Battlef...        \n76        content  I got all of my housework done. For the rest o...        \n83     devastated    I know but now I am afraid he will never return        \n100      faithful          Wow. Looks like you are doing a good job.        \n141  apprehensive  Thank you for the vote of confidence.  It will...        \n153  anticipating  Yes! Thanks for listening! It's making me more...        "
     },
     "execution_count": 15,
     "metadata": {},
     "output_type": "execute_result"
    }
   ],
   "execution_count": null
  },
  {
   "cell_type": "code",
   "metadata": {
    "cell_id": "00020-21597af6-1ea5-4d74-8505-6665f8594a61",
    "deepnote_cell_type": "code",
    "deepnote_cell_height": 101.9375
   },
   "source": "# Garder que les questions AVEC réponse \n# François Landes : \"C'est toujours triste de supprimer des données\" (oui bon, lui il dit \"features\" xD)\ndf_QA = df_QA[~mask]",
   "outputs": [],
   "execution_count": null
  },
  {
   "cell_type": "markdown",
   "source": "#### Sauvegarder le jeu de données ainsi obtenu !",
   "metadata": {
    "cell_id": "00021-5bb3d1bc-65d1-4f72-9183-c6797e85e593",
    "deepnote_cell_type": "markdown",
    "deepnote_cell_height": 53.921875
   }
  },
  {
   "cell_type": "code",
   "metadata": {
    "cell_id": "00022-8556f675-d3b2-433c-b2d3-04c0d8e3ddc8",
    "deepnote_cell_type": "code",
    "deepnote_cell_height": 155.9375
   },
   "source": "OUTPUT_PATH = \"./output/\"\nOUTPUT_NAME = \"EmpatheticDialogues.tsv\"\nOUTPUT_NAME2 = \"EmpatheticDialogues_wo_context.tsv\"\n\ndf_QA.to_csv(OUTPUT_PATH + OUTPUT_NAME, sep=\"\\t\")\ndf_QA[[\"Question\", \"Reponse\"]].to_csv(OUTPUT_PATH + OUTPUT_NAME2, sep=\"\\t\")",
   "outputs": [],
   "execution_count": null
  },
  {
   "cell_type": "code",
   "metadata": {
    "cell_id": "00023-86a75d4e-4eff-4699-9d33-89ea7affe1c2",
    "deepnote_cell_type": "code",
    "deepnote_cell_height": 703.234375,
    "deepnote_output_heights": [
     606.3125
    ]
   },
   "source": "df_QA.groupby(\"Context\").describe()",
   "outputs": [
    {
     "data": {
      "text/html": "<div>\n<style scoped>\n    .dataframe tbody tr th:only-of-type {\n        vertical-align: middle;\n    }\n\n    .dataframe tbody tr th {\n        vertical-align: top;\n    }\n\n    .dataframe thead tr th {\n        text-align: left;\n    }\n\n    .dataframe thead tr:last-of-type th {\n        text-align: right;\n    }\n</style>\n<table border=\"1\" class=\"dataframe\">\n  <thead>\n    <tr>\n      <th></th>\n      <th colspan=\"4\" halign=\"left\">Question</th>\n      <th colspan=\"4\" halign=\"left\">Reponse</th>\n    </tr>\n    <tr>\n      <th></th>\n      <th>count</th>\n      <th>unique</th>\n      <th>top</th>\n      <th>freq</th>\n      <th>count</th>\n      <th>unique</th>\n      <th>top</th>\n      <th>freq</th>\n    </tr>\n    <tr>\n      <th>Context</th>\n      <th></th>\n      <th></th>\n      <th></th>\n      <th></th>\n      <th></th>\n      <th></th>\n      <th></th>\n      <th></th>\n    </tr>\n  </thead>\n  <tbody>\n    <tr>\n      <th>afraid</th>\n      <td>1541</td>\n      <td>1529</td>\n      <td>I used to be afraid of the dark but now I am ...</td>\n      <td>5</td>\n      <td>1541</td>\n      <td>1524</td>\n      <td>Why?</td>\n      <td>4</td>\n    </tr>\n    <tr>\n      <th>angry</th>\n      <td>1650</td>\n      <td>1639</td>\n      <td>Someone cut me off in traffic the other day.</td>\n      <td>4</td>\n      <td>1650</td>\n      <td>1642</td>\n      <td>I know the feeling.</td>\n      <td>2</td>\n    </tr>\n    <tr>\n      <th>annoyed</th>\n      <td>1690</td>\n      <td>1682</td>\n      <td>My dog pooped on the rug today.</td>\n      <td>6</td>\n      <td>1690</td>\n      <td>1685</td>\n      <td>I hate when that happens</td>\n      <td>2</td>\n    </tr>\n    <tr>\n      <th>anticipating</th>\n      <td>1472</td>\n      <td>1463</td>\n      <td>I can't wait for the new Super Smash Brothers ...</td>\n      <td>3</td>\n      <td>1472</td>\n      <td>1467</td>\n      <td>When does it come out?</td>\n      <td>2</td>\n    </tr>\n    <tr>\n      <th>anxious</th>\n      <td>1498</td>\n      <td>1494</td>\n      <td>My husband usually gets a substantial bonus th...</td>\n      <td>2</td>\n      <td>1498</td>\n      <td>1486</td>\n      <td>Why is that?</td>\n      <td>3</td>\n    </tr>\n    <tr>\n      <th>apprehensive</th>\n      <td>1174</td>\n      <td>1172</td>\n      <td>I have an important job interview this week</td>\n      <td>2</td>\n      <td>1174</td>\n      <td>1166</td>\n      <td>How did it go?</td>\n      <td>4</td>\n    </tr>\n    <tr>\n      <th>ashamed</th>\n      <td>1216</td>\n      <td>1210</td>\n      <td>I just ate a whole pack of cookies</td>\n      <td>3</td>\n      <td>1216</td>\n      <td>1205</td>\n      <td>What happened?</td>\n      <td>5</td>\n    </tr>\n    <tr>\n      <th>caring</th>\n      <td>1296</td>\n      <td>1264</td>\n      <td>i loved taking care of my sisters pet</td>\n      <td>17</td>\n      <td>1296</td>\n      <td>1294</td>\n      <td>What breed is it?</td>\n      <td>2</td>\n    </tr>\n    <tr>\n      <th>confident</th>\n      <td>1524</td>\n      <td>1518</td>\n      <td>Thank you, I appreciate it!</td>\n      <td>2</td>\n      <td>1524</td>\n      <td>1510</td>\n      <td>How did you do?</td>\n      <td>4</td>\n    </tr>\n    <tr>\n      <th>content</th>\n      <td>1404</td>\n      <td>1394</td>\n      <td>I am so happy with my life right now.</td>\n      <td>4</td>\n      <td>1404</td>\n      <td>1400</td>\n      <td>Why are you happy</td>\n      <td>2</td>\n    </tr>\n    <tr>\n      <th>devastated</th>\n      <td>1348</td>\n      <td>1336</td>\n      <td>i was crushed when i didnt win the lottery</td>\n      <td>5</td>\n      <td>1348</td>\n      <td>1343</td>\n      <td>sorry to hear that</td>\n      <td>3</td>\n    </tr>\n    <tr>\n      <th>disappointed</th>\n      <td>1478</td>\n      <td>1474</td>\n      <td>What do you mean?</td>\n      <td>2</td>\n      <td>1478</td>\n      <td>1471</td>\n      <td>What happened?</td>\n      <td>3</td>\n    </tr>\n    <tr>\n      <th>disgusted</th>\n      <td>1510</td>\n      <td>1502</td>\n      <td>my cat vomited on my rug today</td>\n      <td>4</td>\n      <td>1510</td>\n      <td>1505</td>\n      <td>What did you eat?</td>\n      <td>3</td>\n    </tr>\n    <tr>\n      <th>embarrassed</th>\n      <td>1402</td>\n      <td>1398</td>\n      <td>i tripped in public the other day which sucked</td>\n      <td>2</td>\n      <td>1402</td>\n      <td>1387</td>\n      <td>Did you hurt yourself?</td>\n      <td>5</td>\n    </tr>\n    <tr>\n      <th>excited</th>\n      <td>1794</td>\n      <td>1785</td>\n      <td>I cannot wait for the new super smash bros for...</td>\n      <td>4</td>\n      <td>1794</td>\n      <td>1787</td>\n      <td>I bet that will be fun</td>\n      <td>2</td>\n    </tr>\n    <tr>\n      <th>faithful</th>\n      <td>884</td>\n      <td>879</td>\n      <td>I have never cheated on my wife.</td>\n      <td>2</td>\n      <td>884</td>\n      <td>882</td>\n      <td>Oh, that must be stressful. Do you think he is...</td>\n      <td>2</td>\n    </tr>\n    <tr>\n      <th>furious</th>\n      <td>1447</td>\n      <td>1435</td>\n      <td>i was pissed when i saw my gate left open</td>\n      <td>3</td>\n      <td>1447</td>\n      <td>1437</td>\n      <td>What did you do?</td>\n      <td>4</td>\n    </tr>\n    <tr>\n      <th>grateful</th>\n      <td>1556</td>\n      <td>1547</td>\n      <td>My neighbor returned my wallet today.</td>\n      <td>3</td>\n      <td>1556</td>\n      <td>1544</td>\n      <td>What happened?</td>\n      <td>2</td>\n    </tr>\n    <tr>\n      <th>guilty</th>\n      <td>1455</td>\n      <td>1443</td>\n      <td>i felt bad when i couldnt get my daughter the ...</td>\n      <td>3</td>\n      <td>1455</td>\n      <td>1434</td>\n      <td>Why did you do that?</td>\n      <td>6</td>\n    </tr>\n    <tr>\n      <th>hopeful</th>\n      <td>1486</td>\n      <td>1481</td>\n      <td>I applied for a job last week</td>\n      <td>4</td>\n      <td>1486</td>\n      <td>1481</td>\n      <td>What kind of job is it?</td>\n      <td>3</td>\n    </tr>\n    <tr>\n      <th>impressed</th>\n      <td>1521</td>\n      <td>1516</td>\n      <td>My friend got promoted last week after one mon...</td>\n      <td>2</td>\n      <td>1521</td>\n      <td>1514</td>\n      <td>oh thats cool</td>\n      <td>2</td>\n    </tr>\n    <tr>\n      <th>jealous</th>\n      <td>1466</td>\n      <td>1452</td>\n      <td>I am jealous of my coworker, he is very smart ...</td>\n      <td>4</td>\n      <td>1466</td>\n      <td>1460</td>\n      <td>How'd it go?</td>\n      <td>2</td>\n    </tr>\n    <tr>\n      <th>joyful</th>\n      <td>1479</td>\n      <td>1475</td>\n      <td>I am so happy it is almost August.</td>\n      <td>2</td>\n      <td>1479</td>\n      <td>1473</td>\n      <td>I am so happy for you!</td>\n      <td>2</td>\n    </tr>\n    <tr>\n      <th>lonely</th>\n      <td>1553</td>\n      <td>1547</td>\n      <td>I have had a break up recently. I feel so empty</td>\n      <td>2</td>\n      <td>1553</td>\n      <td>1538</td>\n      <td>I'm sorry to hear that.</td>\n      <td>5</td>\n    </tr>\n    <tr>\n      <th>nostalgic</th>\n      <td>1447</td>\n      <td>1446</td>\n      <td>Yes, those were the good old days!</td>\n      <td>2</td>\n      <td>1447</td>\n      <td>1443</td>\n      <td>Don't you wish you knew you were living in the...</td>\n      <td>2</td>\n    </tr>\n    <tr>\n      <th>prepared</th>\n      <td>1451</td>\n      <td>1446</td>\n      <td>I am excited for the new super smash bros, it ...</td>\n      <td>2</td>\n      <td>1451</td>\n      <td>1442</td>\n      <td>How did it go?</td>\n      <td>3</td>\n    </tr>\n    <tr>\n      <th>proud</th>\n      <td>1674</td>\n      <td>1658</td>\n      <td>My son said his first word today!</td>\n      <td>6</td>\n      <td>1674</td>\n      <td>1663</td>\n      <td>thats awesome</td>\n      <td>4</td>\n    </tr>\n    <tr>\n      <th>sad</th>\n      <td>1645</td>\n      <td>1642</td>\n      <td>Before I met my girlfriend and friends I was v...</td>\n      <td>2</td>\n      <td>1645</td>\n      <td>1637</td>\n      <td>What happened?</td>\n      <td>3</td>\n    </tr>\n    <tr>\n      <th>sentimental</th>\n      <td>1339</td>\n      <td>1329</td>\n      <td>I get sentimental about my family, they mean a...</td>\n      <td>5</td>\n      <td>1339</td>\n      <td>1337</td>\n      <td>Why is that?</td>\n      <td>3</td>\n    </tr>\n    <tr>\n      <th>surprised</th>\n      <td>2451</td>\n      <td>2448</td>\n      <td>I walked up on a snake.</td>\n      <td>2</td>\n      <td>2451</td>\n      <td>2426</td>\n      <td>What happened?</td>\n      <td>6</td>\n    </tr>\n    <tr>\n      <th>terrified</th>\n      <td>1500</td>\n      <td>1484</td>\n      <td>i was scared walking home the other night</td>\n      <td>4</td>\n      <td>1500</td>\n      <td>1480</td>\n      <td>What happened?</td>\n      <td>8</td>\n    </tr>\n    <tr>\n      <th>trusting</th>\n      <td>1238</td>\n      <td>1219</td>\n      <td>i knew i shouldnt have trusted my brother with...</td>\n      <td>10</td>\n      <td>1238</td>\n      <td>1227</td>\n      <td>What happened?</td>\n      <td>7</td>\n    </tr>\n  </tbody>\n</table>\n</div>",
      "text/plain": "             Question         \\\n                count unique   \nContext                        \nafraid           1541   1529   \nangry            1650   1639   \nannoyed          1690   1682   \nanticipating     1472   1463   \nanxious          1498   1494   \napprehensive     1174   1172   \nashamed          1216   1210   \ncaring           1296   1264   \nconfident        1524   1518   \ncontent          1404   1394   \ndevastated       1348   1336   \ndisappointed     1478   1474   \ndisgusted        1510   1502   \nembarrassed      1402   1398   \nexcited          1794   1785   \nfaithful          884    879   \nfurious          1447   1435   \ngrateful         1556   1547   \nguilty           1455   1443   \nhopeful          1486   1481   \nimpressed        1521   1516   \njealous          1466   1452   \njoyful           1479   1475   \nlonely           1553   1547   \nnostalgic        1447   1446   \nprepared         1451   1446   \nproud            1674   1658   \nsad              1645   1642   \nsentimental      1339   1329   \nsurprised        2451   2448   \nterrified        1500   1484   \ntrusting         1238   1219   \n\n                                                                     Reponse  \\\n                                                            top freq   count   \nContext                                                                        \nafraid         I used to be afraid of the dark but now I am ...    5    1541   \nangry              Someone cut me off in traffic the other day.    4    1650   \nannoyed                         My dog pooped on the rug today.    6    1690   \nanticipating  I can't wait for the new Super Smash Brothers ...    3    1472   \nanxious       My husband usually gets a substantial bonus th...    2    1498   \napprehensive        I have an important job interview this week    2    1174   \nashamed                      I just ate a whole pack of cookies    3    1216   \ncaring                    i loved taking care of my sisters pet   17    1296   \nconfident                           Thank you, I appreciate it!    2    1524   \ncontent                   I am so happy with my life right now.    4    1404   \ndevastated           i was crushed when i didnt win the lottery    5    1348   \ndisappointed                                  What do you mean?    2    1478   \ndisgusted                        my cat vomited on my rug today    4    1510   \nembarrassed      i tripped in public the other day which sucked    2    1402   \nexcited       I cannot wait for the new super smash bros for...    4    1794   \nfaithful                       I have never cheated on my wife.    2     884   \nfurious               i was pissed when i saw my gate left open    3    1447   \ngrateful                  My neighbor returned my wallet today.    3    1556   \nguilty        i felt bad when i couldnt get my daughter the ...    3    1455   \nhopeful                           I applied for a job last week    4    1486   \nimpressed     My friend got promoted last week after one mon...    2    1521   \njealous       I am jealous of my coworker, he is very smart ...    4    1466   \njoyful                       I am so happy it is almost August.    2    1479   \nlonely          I have had a break up recently. I feel so empty    2    1553   \nnostalgic                    Yes, those were the good old days!    2    1447   \nprepared      I am excited for the new super smash bros, it ...    2    1451   \nproud                         My son said his first word today!    6    1674   \nsad           Before I met my girlfriend and friends I was v...    2    1645   \nsentimental   I get sentimental about my family, they mean a...    5    1339   \nsurprised                               I walked up on a snake.    2    2451   \nterrified             i was scared walking home the other night    4    1500   \ntrusting      i knew i shouldnt have trusted my brother with...   10    1238   \n\n                                                                             \n             unique                                                top freq  \nContext                                                                      \nafraid         1524                                               Why?    4  \nangry          1642                                I know the feeling.    2  \nannoyed        1685                           I hate when that happens    2  \nanticipating   1467                             When does it come out?    2  \nanxious        1486                                       Why is that?    3  \napprehensive   1166                                     How did it go?    4  \nashamed        1205                                     What happened?    5  \ncaring         1294                                  What breed is it?    2  \nconfident      1510                                    How did you do?    4  \ncontent        1400                                  Why are you happy    2  \ndevastated     1343                                 sorry to hear that    3  \ndisappointed   1471                                     What happened?    3  \ndisgusted      1505                                  What did you eat?    3  \nembarrassed    1387                             Did you hurt yourself?    5  \nexcited        1787                             I bet that will be fun    2  \nfaithful        882  Oh, that must be stressful. Do you think he is...    2  \nfurious        1437                                   What did you do?    4  \ngrateful       1544                                     What happened?    2  \nguilty         1434                               Why did you do that?    6  \nhopeful        1481                            What kind of job is it?    3  \nimpressed      1514                                      oh thats cool    2  \njealous        1460                                       How'd it go?    2  \njoyful         1473                             I am so happy for you!    2  \nlonely         1538                            I'm sorry to hear that.    5  \nnostalgic      1443  Don't you wish you knew you were living in the...    2  \nprepared       1442                                     How did it go?    3  \nproud          1663                                      thats awesome    4  \nsad            1637                                     What happened?    3  \nsentimental    1337                                       Why is that?    3  \nsurprised      2426                                     What happened?    6  \nterrified      1480                                     What happened?    8  \ntrusting       1227                                     What happened?    7  "
     },
     "execution_count": 24,
     "metadata": {},
     "output_type": "execute_result"
    }
   ],
   "execution_count": null
  },
  {
   "cell_type": "code",
   "metadata": {
    "cell_id": "00024-6df73535-dab5-439a-926d-50f4829e2515",
    "deepnote_cell_type": "code",
    "deepnote_cell_height": 351.875,
    "deepnote_output_heights": [
     182.96875
    ]
   },
   "source": "contexts = df_QA.Context.unique()\nwordcloud = WordCloud(stopwords=STOPWORDS).generate(\"Hello there is there\")\nplt.imshow(wordcloud, interpolation='bilinear')\nplt.axis(\"off\")\nplt.show()",
   "outputs": [
    {
     "data": {
      "image/png": "[encoded data removed]",
      "text/plain": "<Figure size 432x288 with 1 Axes>"
     },
     "metadata": {
      "needs_background": "light",
      "image/png": {
       "width": 349,
       "height": 181
      }
     },
     "output_type": "display_data"
    }
   ],
   "execution_count": null
  },
  {
   "cell_type": "code",
   "metadata": {
    "cell_id": "00025-a2f3d017-0044-488c-8f09-2bafcbcfd4eb",
    "deepnote_cell_type": "code",
    "deepnote_cell_height": 118.09375,
    "deepnote_output_heights": [
     21.1875
    ]
   },
   "source": "len(df_QA)",
   "outputs": [
    {
     "data": {
      "text/plain": "47589"
     },
     "execution_count": 39,
     "metadata": {},
     "output_type": "execute_result"
    }
   ],
   "execution_count": null
  },
  {
   "cell_type": "code",
   "metadata": {
    "cell_id": "00026-d216d355-dd5b-4520-b992-b0fe5e4dce57",
    "deepnote_cell_type": "code",
    "deepnote_cell_height": 101.9375
   },
   "source": "Empathetic Facebook Reseach : 47.5K (\"\"\"  :ok:  \"\"\")\nI don't have a body         : 9K (\"\"\"  ...  \"\"\")\n7K",
   "execution_count": null,
   "outputs": []
  },
  {
   "cell_type": "markdown",
   "source": "<a style='text-decoration:none;line-height:16px;display:flex;color:#5B5B62;padding:10px;justify-content:end;' href='https://deepnote.com?utm_source=created-in-deepnote-cell&projectId=e5c503ea-724e-4975-85d2-1122520b6aaa' target=\"_blank\">\n<img alt='Created in deepnote.com' style='display:inline;max-height:16px;margin:0px;margin-right:7.5px;' src='data:image/svg+xml;base64,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' > </img>\nCreated in <span style='font-weight:600;margin-left:4px;'>Deepnote</span></a>",
   "metadata": {
    "tags": [],
    "created_in_deepnote_cell": true,
    "deepnote_cell_type": "markdown"
   }
  }
 ],
 "nbformat": 4,
 "nbformat_minor": 2,
 "metadata": {
  "interpreter": {
   "hash": "b3ba2566441a7c06988d0923437866b63cedc61552a5af99d1f4fb67d367b25f"
  },
  "kernelspec": {
   "display_name": "Python 3.8.5 ('base')",
   "language": "python",
   "name": "python3"
  },
  "language_info": {
   "codemirror_mode": {
    "name": "ipython",
    "version": 3
   },
   "file_extension": ".py",
   "mimetype": "text/x-python",
   "name": "python",
   "nbconvert_exporter": "python",
   "pygments_lexer": "ipython3",
   "version": "3.8.5"
  },
  "orig_nbformat": 4,
  "deepnote_notebook_id": "9612929f-cd0b-43dc-b61b-7d23685dc927",
  "deepnote": {},
  "deepnote_execution_queue": []
 }
}